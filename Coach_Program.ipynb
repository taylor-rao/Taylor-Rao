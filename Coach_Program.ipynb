{
 "cells": [
  {
   "cell_type": "code",
   "execution_count": 2,
   "metadata": {
    "collapsed": false
   },
   "outputs": [],
   "source": [
    "#add home or away column\n",
    "import pandas as pd\n",
    "import numpy as np\n",
    "from sklearn.model_selection import train_test_split\n",
    "dat = pd.read_csv('original_game_data.csv')\n",
    "\n",
    "bat=dat[dat.BatterTeam=='TEX_AGG']"
   ]
  },
  {
   "cell_type": "code",
   "execution_count": 3,
   "metadata": {
    "collapsed": false
   },
   "outputs": [
    {
     "data": {
      "text/html": [
       "<div>\n",
       "<style scoped>\n",
       "    .dataframe tbody tr th:only-of-type {\n",
       "        vertical-align: middle;\n",
       "    }\n",
       "\n",
       "    .dataframe tbody tr th {\n",
       "        vertical-align: top;\n",
       "    }\n",
       "\n",
       "    .dataframe thead th {\n",
       "        text-align: right;\n",
       "    }\n",
       "</style>\n",
       "<table border=\"1\" class=\"dataframe\">\n",
       "  <thead>\n",
       "    <tr style=\"text-align: right;\">\n",
       "      <th></th>\n",
       "      <th>Unnamed: 0</th>\n",
       "      <th>PitchNo</th>\n",
       "      <th>Date</th>\n",
       "      <th>Time</th>\n",
       "      <th>PAofInning</th>\n",
       "      <th>PitchofPA</th>\n",
       "      <th>Pitcher</th>\n",
       "      <th>PitcherThrows</th>\n",
       "      <th>PitcherTeam</th>\n",
       "      <th>Batter</th>\n",
       "      <th>...</th>\n",
       "      <th>ax0</th>\n",
       "      <th>ay0</th>\n",
       "      <th>az0</th>\n",
       "      <th>HomeTeam</th>\n",
       "      <th>AwayTeam</th>\n",
       "      <th>Stadium</th>\n",
       "      <th>Week</th>\n",
       "      <th>Week_Factor</th>\n",
       "      <th>ERA</th>\n",
       "      <th>BatAvg</th>\n",
       "    </tr>\n",
       "  </thead>\n",
       "  <tbody>\n",
       "    <tr>\n",
       "      <th>14</th>\n",
       "      <td>15</td>\n",
       "      <td>15</td>\n",
       "      <td>2/16/2018</td>\n",
       "      <td>6:41:50 PM</td>\n",
       "      <td>1</td>\n",
       "      <td>1</td>\n",
       "      <td>Wilson, Tyler</td>\n",
       "      <td>Left</td>\n",
       "      <td>RHO_RAM</td>\n",
       "      <td>DeLoach, Zach</td>\n",
       "      <td>...</td>\n",
       "      <td>9.037551</td>\n",
       "      <td>25.938566</td>\n",
       "      <td>-14.985377</td>\n",
       "      <td>TEX_AGG</td>\n",
       "      <td>RHO_RAM</td>\n",
       "      <td>BlueBell</td>\n",
       "      <td>7</td>\n",
       "      <td>Weekday</td>\n",
       "      <td>NaN</td>\n",
       "      <td>NaN</td>\n",
       "    </tr>\n",
       "    <tr>\n",
       "      <th>15</th>\n",
       "      <td>16</td>\n",
       "      <td>16</td>\n",
       "      <td>2/16/2018</td>\n",
       "      <td>6:42:08 PM</td>\n",
       "      <td>1</td>\n",
       "      <td>2</td>\n",
       "      <td>Wilson, Tyler</td>\n",
       "      <td>Left</td>\n",
       "      <td>RHO_RAM</td>\n",
       "      <td>DeLoach, Zach</td>\n",
       "      <td>...</td>\n",
       "      <td>13.994600</td>\n",
       "      <td>25.126365</td>\n",
       "      <td>-15.372525</td>\n",
       "      <td>TEX_AGG</td>\n",
       "      <td>RHO_RAM</td>\n",
       "      <td>BlueBell</td>\n",
       "      <td>7</td>\n",
       "      <td>Weekday</td>\n",
       "      <td>NaN</td>\n",
       "      <td>NaN</td>\n",
       "    </tr>\n",
       "    <tr>\n",
       "      <th>16</th>\n",
       "      <td>17</td>\n",
       "      <td>17</td>\n",
       "      <td>2/16/2018</td>\n",
       "      <td>6:42:32 PM</td>\n",
       "      <td>1</td>\n",
       "      <td>3</td>\n",
       "      <td>Wilson, Tyler</td>\n",
       "      <td>Left</td>\n",
       "      <td>RHO_RAM</td>\n",
       "      <td>DeLoach, Zach</td>\n",
       "      <td>...</td>\n",
       "      <td>10.375418</td>\n",
       "      <td>29.264027</td>\n",
       "      <td>-16.209300</td>\n",
       "      <td>TEX_AGG</td>\n",
       "      <td>RHO_RAM</td>\n",
       "      <td>BlueBell</td>\n",
       "      <td>7</td>\n",
       "      <td>Weekday</td>\n",
       "      <td>NaN</td>\n",
       "      <td>NaN</td>\n",
       "    </tr>\n",
       "    <tr>\n",
       "      <th>17</th>\n",
       "      <td>18</td>\n",
       "      <td>18</td>\n",
       "      <td>2/16/2018</td>\n",
       "      <td>6:42:50 PM</td>\n",
       "      <td>1</td>\n",
       "      <td>4</td>\n",
       "      <td>Wilson, Tyler</td>\n",
       "      <td>Left</td>\n",
       "      <td>RHO_RAM</td>\n",
       "      <td>DeLoach, Zach</td>\n",
       "      <td>...</td>\n",
       "      <td>13.342081</td>\n",
       "      <td>27.708265</td>\n",
       "      <td>-12.368862</td>\n",
       "      <td>TEX_AGG</td>\n",
       "      <td>RHO_RAM</td>\n",
       "      <td>BlueBell</td>\n",
       "      <td>7</td>\n",
       "      <td>Weekday</td>\n",
       "      <td>NaN</td>\n",
       "      <td>NaN</td>\n",
       "    </tr>\n",
       "    <tr>\n",
       "      <th>18</th>\n",
       "      <td>19</td>\n",
       "      <td>19</td>\n",
       "      <td>2/16/2018</td>\n",
       "      <td>6:43:09 PM</td>\n",
       "      <td>1</td>\n",
       "      <td>5</td>\n",
       "      <td>Wilson, Tyler</td>\n",
       "      <td>Left</td>\n",
       "      <td>RHO_RAM</td>\n",
       "      <td>DeLoach, Zach</td>\n",
       "      <td>...</td>\n",
       "      <td>13.347353</td>\n",
       "      <td>26.468049</td>\n",
       "      <td>-12.770299</td>\n",
       "      <td>TEX_AGG</td>\n",
       "      <td>RHO_RAM</td>\n",
       "      <td>BlueBell</td>\n",
       "      <td>7</td>\n",
       "      <td>Weekday</td>\n",
       "      <td>NaN</td>\n",
       "      <td>NaN</td>\n",
       "    </tr>\n",
       "  </tbody>\n",
       "</table>\n",
       "<p>5 rows × 71 columns</p>\n",
       "</div>"
      ],
      "text/plain": [
       "    Unnamed: 0  PitchNo       Date        Time  PAofInning  PitchofPA  \\\n",
       "14          15       15  2/16/2018  6:41:50 PM           1          1   \n",
       "15          16       16  2/16/2018  6:42:08 PM           1          2   \n",
       "16          17       17  2/16/2018  6:42:32 PM           1          3   \n",
       "17          18       18  2/16/2018  6:42:50 PM           1          4   \n",
       "18          19       19  2/16/2018  6:43:09 PM           1          5   \n",
       "\n",
       "          Pitcher PitcherThrows PitcherTeam         Batter  ...          ax0  \\\n",
       "14  Wilson, Tyler          Left     RHO_RAM  DeLoach, Zach  ...     9.037551   \n",
       "15  Wilson, Tyler          Left     RHO_RAM  DeLoach, Zach  ...    13.994600   \n",
       "16  Wilson, Tyler          Left     RHO_RAM  DeLoach, Zach  ...    10.375418   \n",
       "17  Wilson, Tyler          Left     RHO_RAM  DeLoach, Zach  ...    13.342081   \n",
       "18  Wilson, Tyler          Left     RHO_RAM  DeLoach, Zach  ...    13.347353   \n",
       "\n",
       "          ay0        az0  HomeTeam  AwayTeam   Stadium Week Week_Factor ERA  \\\n",
       "14  25.938566 -14.985377   TEX_AGG   RHO_RAM  BlueBell    7     Weekday NaN   \n",
       "15  25.126365 -15.372525   TEX_AGG   RHO_RAM  BlueBell    7     Weekday NaN   \n",
       "16  29.264027 -16.209300   TEX_AGG   RHO_RAM  BlueBell    7     Weekday NaN   \n",
       "17  27.708265 -12.368862   TEX_AGG   RHO_RAM  BlueBell    7     Weekday NaN   \n",
       "18  26.468049 -12.770299   TEX_AGG   RHO_RAM  BlueBell    7     Weekday NaN   \n",
       "\n",
       "   BatAvg  \n",
       "14    NaN  \n",
       "15    NaN  \n",
       "16    NaN  \n",
       "17    NaN  \n",
       "18    NaN  \n",
       "\n",
       "[5 rows x 71 columns]"
      ]
     },
     "execution_count": 3,
     "metadata": {},
     "output_type": "execute_result"
    }
   ],
   "source": [
    "bat.head()"
   ]
  },
  {
   "cell_type": "code",
   "execution_count": 4,
   "metadata": {
    "collapsed": false
   },
   "outputs": [
    {
     "data": {
      "text/html": [
       "<div>\n",
       "<style scoped>\n",
       "    .dataframe tbody tr th:only-of-type {\n",
       "        vertical-align: middle;\n",
       "    }\n",
       "\n",
       "    .dataframe tbody tr th {\n",
       "        vertical-align: top;\n",
       "    }\n",
       "\n",
       "    .dataframe thead th {\n",
       "        text-align: right;\n",
       "    }\n",
       "</style>\n",
       "<table border=\"1\" class=\"dataframe\">\n",
       "  <thead>\n",
       "    <tr style=\"text-align: right;\">\n",
       "      <th></th>\n",
       "      <th>Unnamed: 0</th>\n",
       "      <th>PitchNo</th>\n",
       "      <th>Date</th>\n",
       "      <th>Time</th>\n",
       "      <th>PAofInning</th>\n",
       "      <th>PitchofPA</th>\n",
       "      <th>Pitcher</th>\n",
       "      <th>PitcherThrows</th>\n",
       "      <th>PitcherTeam</th>\n",
       "      <th>Batter</th>\n",
       "      <th>BatterSide</th>\n",
       "      <th>BatterTeam</th>\n",
       "      <th>Inning</th>\n",
       "      <th>Outs</th>\n",
       "      <th>Balls</th>\n",
       "      <th>Strikes</th>\n",
       "      <th>TaggedPitchType</th>\n",
       "      <th>AutoPitchType</th>\n",
       "      <th>PitchCall</th>\n",
       "      <th>KorBB</th>\n",
       "    </tr>\n",
       "  </thead>\n",
       "  <tbody>\n",
       "    <tr>\n",
       "      <th>14</th>\n",
       "      <td>15</td>\n",
       "      <td>15</td>\n",
       "      <td>2/16/2018</td>\n",
       "      <td>6:41:50 PM</td>\n",
       "      <td>1</td>\n",
       "      <td>1</td>\n",
       "      <td>Wilson, Tyler</td>\n",
       "      <td>Left</td>\n",
       "      <td>RHO_RAM</td>\n",
       "      <td>DeLoach, Zach</td>\n",
       "      <td>Right</td>\n",
       "      <td>TEX_AGG</td>\n",
       "      <td>1</td>\n",
       "      <td>0</td>\n",
       "      <td>0</td>\n",
       "      <td>0</td>\n",
       "      <td>Fastball</td>\n",
       "      <td>Fastball</td>\n",
       "      <td>BallCalled</td>\n",
       "      <td>Undefined</td>\n",
       "    </tr>\n",
       "    <tr>\n",
       "      <th>15</th>\n",
       "      <td>16</td>\n",
       "      <td>16</td>\n",
       "      <td>2/16/2018</td>\n",
       "      <td>6:42:08 PM</td>\n",
       "      <td>1</td>\n",
       "      <td>2</td>\n",
       "      <td>Wilson, Tyler</td>\n",
       "      <td>Left</td>\n",
       "      <td>RHO_RAM</td>\n",
       "      <td>DeLoach, Zach</td>\n",
       "      <td>Right</td>\n",
       "      <td>TEX_AGG</td>\n",
       "      <td>1</td>\n",
       "      <td>0</td>\n",
       "      <td>1</td>\n",
       "      <td>0</td>\n",
       "      <td>Fastball</td>\n",
       "      <td>Fastball</td>\n",
       "      <td>BallCalled</td>\n",
       "      <td>Undefined</td>\n",
       "    </tr>\n",
       "    <tr>\n",
       "      <th>16</th>\n",
       "      <td>17</td>\n",
       "      <td>17</td>\n",
       "      <td>2/16/2018</td>\n",
       "      <td>6:42:32 PM</td>\n",
       "      <td>1</td>\n",
       "      <td>3</td>\n",
       "      <td>Wilson, Tyler</td>\n",
       "      <td>Left</td>\n",
       "      <td>RHO_RAM</td>\n",
       "      <td>DeLoach, Zach</td>\n",
       "      <td>Right</td>\n",
       "      <td>TEX_AGG</td>\n",
       "      <td>1</td>\n",
       "      <td>0</td>\n",
       "      <td>2</td>\n",
       "      <td>0</td>\n",
       "      <td>Fastball</td>\n",
       "      <td>Fastball</td>\n",
       "      <td>StrikeSwinging</td>\n",
       "      <td>Undefined</td>\n",
       "    </tr>\n",
       "    <tr>\n",
       "      <th>17</th>\n",
       "      <td>18</td>\n",
       "      <td>18</td>\n",
       "      <td>2/16/2018</td>\n",
       "      <td>6:42:50 PM</td>\n",
       "      <td>1</td>\n",
       "      <td>4</td>\n",
       "      <td>Wilson, Tyler</td>\n",
       "      <td>Left</td>\n",
       "      <td>RHO_RAM</td>\n",
       "      <td>DeLoach, Zach</td>\n",
       "      <td>Right</td>\n",
       "      <td>TEX_AGG</td>\n",
       "      <td>1</td>\n",
       "      <td>0</td>\n",
       "      <td>2</td>\n",
       "      <td>1</td>\n",
       "      <td>Fastball</td>\n",
       "      <td>Fastball</td>\n",
       "      <td>StrikeCalled</td>\n",
       "      <td>Undefined</td>\n",
       "    </tr>\n",
       "    <tr>\n",
       "      <th>18</th>\n",
       "      <td>19</td>\n",
       "      <td>19</td>\n",
       "      <td>2/16/2018</td>\n",
       "      <td>6:43:09 PM</td>\n",
       "      <td>1</td>\n",
       "      <td>5</td>\n",
       "      <td>Wilson, Tyler</td>\n",
       "      <td>Left</td>\n",
       "      <td>RHO_RAM</td>\n",
       "      <td>DeLoach, Zach</td>\n",
       "      <td>Right</td>\n",
       "      <td>TEX_AGG</td>\n",
       "      <td>1</td>\n",
       "      <td>0</td>\n",
       "      <td>2</td>\n",
       "      <td>2</td>\n",
       "      <td>Fastball</td>\n",
       "      <td>Fastball</td>\n",
       "      <td>InPlay</td>\n",
       "      <td>Undefined</td>\n",
       "    </tr>\n",
       "    <tr>\n",
       "      <th>19</th>\n",
       "      <td>20</td>\n",
       "      <td>20</td>\n",
       "      <td>2/16/2018</td>\n",
       "      <td>6:43:43 PM</td>\n",
       "      <td>2</td>\n",
       "      <td>1</td>\n",
       "      <td>Wilson, Tyler</td>\n",
       "      <td>Left</td>\n",
       "      <td>RHO_RAM</td>\n",
       "      <td>Helman, Michael</td>\n",
       "      <td>Right</td>\n",
       "      <td>TEX_AGG</td>\n",
       "      <td>1</td>\n",
       "      <td>1</td>\n",
       "      <td>0</td>\n",
       "      <td>0</td>\n",
       "      <td>ChangeUp</td>\n",
       "      <td>ChangeUp</td>\n",
       "      <td>StrikeCalled</td>\n",
       "      <td>Undefined</td>\n",
       "    </tr>\n",
       "    <tr>\n",
       "      <th>20</th>\n",
       "      <td>21</td>\n",
       "      <td>21</td>\n",
       "      <td>2/16/2018</td>\n",
       "      <td>6:44:01 PM</td>\n",
       "      <td>2</td>\n",
       "      <td>2</td>\n",
       "      <td>Wilson, Tyler</td>\n",
       "      <td>Left</td>\n",
       "      <td>RHO_RAM</td>\n",
       "      <td>Helman, Michael</td>\n",
       "      <td>Right</td>\n",
       "      <td>TEX_AGG</td>\n",
       "      <td>1</td>\n",
       "      <td>1</td>\n",
       "      <td>0</td>\n",
       "      <td>1</td>\n",
       "      <td>Fastball</td>\n",
       "      <td>Fastball</td>\n",
       "      <td>FoulBall</td>\n",
       "      <td>Undefined</td>\n",
       "    </tr>\n",
       "    <tr>\n",
       "      <th>21</th>\n",
       "      <td>22</td>\n",
       "      <td>22</td>\n",
       "      <td>2/16/2018</td>\n",
       "      <td>6:44:33 PM</td>\n",
       "      <td>2</td>\n",
       "      <td>3</td>\n",
       "      <td>Wilson, Tyler</td>\n",
       "      <td>Left</td>\n",
       "      <td>RHO_RAM</td>\n",
       "      <td>Helman, Michael</td>\n",
       "      <td>Right</td>\n",
       "      <td>TEX_AGG</td>\n",
       "      <td>1</td>\n",
       "      <td>1</td>\n",
       "      <td>0</td>\n",
       "      <td>2</td>\n",
       "      <td>Fastball</td>\n",
       "      <td>Fastball</td>\n",
       "      <td>BallCalled</td>\n",
       "      <td>Undefined</td>\n",
       "    </tr>\n",
       "    <tr>\n",
       "      <th>22</th>\n",
       "      <td>23</td>\n",
       "      <td>23</td>\n",
       "      <td>2/16/2018</td>\n",
       "      <td>6:44:51 PM</td>\n",
       "      <td>2</td>\n",
       "      <td>4</td>\n",
       "      <td>Wilson, Tyler</td>\n",
       "      <td>Left</td>\n",
       "      <td>RHO_RAM</td>\n",
       "      <td>Helman, Michael</td>\n",
       "      <td>Right</td>\n",
       "      <td>TEX_AGG</td>\n",
       "      <td>1</td>\n",
       "      <td>1</td>\n",
       "      <td>1</td>\n",
       "      <td>2</td>\n",
       "      <td>Curveball</td>\n",
       "      <td>Slider</td>\n",
       "      <td>FoulBall</td>\n",
       "      <td>Undefined</td>\n",
       "    </tr>\n",
       "    <tr>\n",
       "      <th>23</th>\n",
       "      <td>24</td>\n",
       "      <td>24</td>\n",
       "      <td>2/16/2018</td>\n",
       "      <td>6:45:32 PM</td>\n",
       "      <td>2</td>\n",
       "      <td>5</td>\n",
       "      <td>Wilson, Tyler</td>\n",
       "      <td>Left</td>\n",
       "      <td>RHO_RAM</td>\n",
       "      <td>Helman, Michael</td>\n",
       "      <td>Right</td>\n",
       "      <td>TEX_AGG</td>\n",
       "      <td>1</td>\n",
       "      <td>1</td>\n",
       "      <td>1</td>\n",
       "      <td>2</td>\n",
       "      <td>Fastball</td>\n",
       "      <td>Fastball</td>\n",
       "      <td>HitByPitch</td>\n",
       "      <td>Undefined</td>\n",
       "    </tr>\n",
       "  </tbody>\n",
       "</table>\n",
       "</div>"
      ],
      "text/plain": [
       "    Unnamed: 0  PitchNo       Date        Time  PAofInning  PitchofPA  \\\n",
       "14          15       15  2/16/2018  6:41:50 PM           1          1   \n",
       "15          16       16  2/16/2018  6:42:08 PM           1          2   \n",
       "16          17       17  2/16/2018  6:42:32 PM           1          3   \n",
       "17          18       18  2/16/2018  6:42:50 PM           1          4   \n",
       "18          19       19  2/16/2018  6:43:09 PM           1          5   \n",
       "19          20       20  2/16/2018  6:43:43 PM           2          1   \n",
       "20          21       21  2/16/2018  6:44:01 PM           2          2   \n",
       "21          22       22  2/16/2018  6:44:33 PM           2          3   \n",
       "22          23       23  2/16/2018  6:44:51 PM           2          4   \n",
       "23          24       24  2/16/2018  6:45:32 PM           2          5   \n",
       "\n",
       "          Pitcher PitcherThrows PitcherTeam           Batter BatterSide  \\\n",
       "14  Wilson, Tyler          Left     RHO_RAM    DeLoach, Zach      Right   \n",
       "15  Wilson, Tyler          Left     RHO_RAM    DeLoach, Zach      Right   \n",
       "16  Wilson, Tyler          Left     RHO_RAM    DeLoach, Zach      Right   \n",
       "17  Wilson, Tyler          Left     RHO_RAM    DeLoach, Zach      Right   \n",
       "18  Wilson, Tyler          Left     RHO_RAM    DeLoach, Zach      Right   \n",
       "19  Wilson, Tyler          Left     RHO_RAM  Helman, Michael      Right   \n",
       "20  Wilson, Tyler          Left     RHO_RAM  Helman, Michael      Right   \n",
       "21  Wilson, Tyler          Left     RHO_RAM  Helman, Michael      Right   \n",
       "22  Wilson, Tyler          Left     RHO_RAM  Helman, Michael      Right   \n",
       "23  Wilson, Tyler          Left     RHO_RAM  Helman, Michael      Right   \n",
       "\n",
       "   BatterTeam  Inning  Outs  Balls  Strikes TaggedPitchType AutoPitchType  \\\n",
       "14    TEX_AGG       1     0      0        0        Fastball      Fastball   \n",
       "15    TEX_AGG       1     0      1        0        Fastball      Fastball   \n",
       "16    TEX_AGG       1     0      2        0        Fastball      Fastball   \n",
       "17    TEX_AGG       1     0      2        1        Fastball      Fastball   \n",
       "18    TEX_AGG       1     0      2        2        Fastball      Fastball   \n",
       "19    TEX_AGG       1     1      0        0        ChangeUp      ChangeUp   \n",
       "20    TEX_AGG       1     1      0        1        Fastball      Fastball   \n",
       "21    TEX_AGG       1     1      0        2        Fastball      Fastball   \n",
       "22    TEX_AGG       1     1      1        2       Curveball        Slider   \n",
       "23    TEX_AGG       1     1      1        2        Fastball      Fastball   \n",
       "\n",
       "         PitchCall      KorBB  \n",
       "14      BallCalled  Undefined  \n",
       "15      BallCalled  Undefined  \n",
       "16  StrikeSwinging  Undefined  \n",
       "17    StrikeCalled  Undefined  \n",
       "18          InPlay  Undefined  \n",
       "19    StrikeCalled  Undefined  \n",
       "20        FoulBall  Undefined  \n",
       "21      BallCalled  Undefined  \n",
       "22        FoulBall  Undefined  \n",
       "23      HitByPitch  Undefined  "
      ]
     },
     "execution_count": 4,
     "metadata": {},
     "output_type": "execute_result"
    }
   ],
   "source": [
    "bat.iloc[:, 0:20].head(10)"
   ]
  },
  {
   "cell_type": "code",
   "execution_count": 5,
   "metadata": {
    "collapsed": false
   },
   "outputs": [
    {
     "name": "stdout",
     "output_type": "stream",
     "text": [
      "PitchCall\n",
      "BallCalled         2094\n",
      "BallIntentional      40\n",
      "FoulBall            964\n",
      "HitByPitch           27\n",
      "InPlay             1125\n",
      "StrikeCalled        892\n",
      "StrikeSwinging      494\n",
      "Undefined            18\n",
      "dtype: int64\n"
     ]
    }
   ],
   "source": [
    "print(bat.groupby('PitchCall').size())"
   ]
  },
  {
   "cell_type": "code",
   "execution_count": 6,
   "metadata": {
    "collapsed": false
   },
   "outputs": [
    {
     "name": "stdout",
     "output_type": "stream",
     "text": [
      "Batter\n",
      "Andritsos, Chris      335\n",
      "Bedford, Cole         444\n",
      "Blake, Cam            135\n",
      "Coleman, Hunter       529\n",
      "Coleman, Hunter        10\n",
      "DeLoach, Zach         679\n",
      "Foster, Logan         567\n",
      "Frizzell, Will        487\n",
      "Helman, Michael       584\n",
      "Janca, George         425\n",
      "Morris, Chandler      106\n",
      "Schoenvogel, Baine    204\n",
      "Shewmake, Braden      590\n",
      "Taylor, Cole           58\n",
      "Walters, Aaron        244\n",
      "Wingate, Allonte      257\n",
      "dtype: int64\n"
     ]
    }
   ],
   "source": [
    "print(bat.groupby('Batter').size())"
   ]
  },
  {
   "cell_type": "code",
   "execution_count": 7,
   "metadata": {
    "collapsed": false
   },
   "outputs": [
    {
     "data": {
      "text/plain": [
       "Unnamed: 0                0\n",
       "PitchNo                   0\n",
       "Date                      0\n",
       "Time                      0\n",
       "PAofInning                0\n",
       "PitchofPA                 0\n",
       "Pitcher                   0\n",
       "PitcherThrows             0\n",
       "PitcherTeam               0\n",
       "Batter                    0\n",
       "BatterSide                0\n",
       "BatterTeam                0\n",
       "Inning                    0\n",
       "Outs                      0\n",
       "Balls                     0\n",
       "Strikes                   0\n",
       "TaggedPitchType           0\n",
       "AutoPitchType             0\n",
       "PitchCall                 0\n",
       "KorBB                     0\n",
       "HitType                   0\n",
       "PlayResult                0\n",
       "OutsOnPlay                0\n",
       "RunsScored                0\n",
       "RelSpeed                  4\n",
       "VertRelAngle              4\n",
       "HorzRelAngle              4\n",
       "SpinRate                 24\n",
       "SpinAxis                  4\n",
       "Tilt                      4\n",
       "                       ... \n",
       "ZoneTime                  4\n",
       "ExitSpeed              4381\n",
       "Angle                  4381\n",
       "Direction              4381\n",
       "HitSpinRate            4742\n",
       "PositionAt110X         4902\n",
       "PositionAt110Y         4902\n",
       "PositionAt110Z         4902\n",
       "Distance               4481\n",
       "LastTrackedDistance    4481\n",
       "Bearing                4481\n",
       "HangTime               4481\n",
       "pfxx                      4\n",
       "pfxz                      4\n",
       "x0                        4\n",
       "y0                        4\n",
       "z0                        4\n",
       "vx0                       4\n",
       "vy0                       4\n",
       "vz0                       4\n",
       "ax0                       4\n",
       "ay0                       4\n",
       "az0                       4\n",
       "HomeTeam                  0\n",
       "AwayTeam                  0\n",
       "Stadium                   0\n",
       "Week                      0\n",
       "Week_Factor               0\n",
       "ERA                    5654\n",
       "BatAvg                 5654\n",
       "Length: 71, dtype: int64"
      ]
     },
     "execution_count": 7,
     "metadata": {},
     "output_type": "execute_result"
    }
   ],
   "source": [
    "bat.isnull().sum()"
   ]
  },
  {
   "cell_type": "code",
   "execution_count": 8,
   "metadata": {
    "collapsed": false
   },
   "outputs": [],
   "source": [
    "droplist = ['HangTime','ExitSpeed','Angle','Direction','HitSpinRate','PositionAt110X','PositionAt110Y','PositionAt110Z','Distance','LastTrackedDistance','Bearing', 'ERA', 'BatAvg']  \n",
    "bat = bat.drop(droplist, axis= 1)"
   ]
  },
  {
   "cell_type": "code",
   "execution_count": 9,
   "metadata": {
    "collapsed": true
   },
   "outputs": [],
   "source": [
    "bat = bat.dropna(how='any')"
   ]
  },
  {
   "cell_type": "code",
   "execution_count": 10,
   "metadata": {
    "collapsed": true
   },
   "outputs": [],
   "source": [
    "y = bat.PitchCall\n",
    "y = y.replace({'BallCalled': 0, 'StrikeSwinging': 1,'StrikeCalled': 2, 'InPlay' : 3, 'FoulBall' : 4, 'HitByPitch': 5, 'Undefined': 6, 'BallIntentional': 7 })"
   ]
  },
  {
   "cell_type": "code",
   "execution_count": 11,
   "metadata": {
    "collapsed": true
   },
   "outputs": [],
   "source": [
    "myList1 = ['RelSpeed','VertRelAngle', 'InducedVertBreak','HorzRelAngle','SpinRate','SpinAxis','Tilt','RelHeight','RelSide','Extension',\n",
    "         'VertBreak','HorzBreak','PlateLocHeight','PlateLocSide','ZoneSpeed','VertApprAngle',\n",
    "         'HorzApprAngle','ZoneTime','pfxx','pfxz','x0','y0','z0','vx0','vy0',\n",
    "         'vz0','ax0','ay0','az0', 'Inning', 'Week', \n",
    "           'PitcherThrows', 'BatterSide', 'TaggedPitchType', 'AutoPitchType', 'Week_Factor', 'Batter', 'BatterSide']\n",
    "X1 = bat[myList1]"
   ]
  },
  {
   "cell_type": "code",
   "execution_count": 12,
   "metadata": {
    "collapsed": false
   },
   "outputs": [
    {
     "data": {
      "text/plain": [
       "True"
      ]
     },
     "execution_count": 12,
     "metadata": {},
     "output_type": "execute_result"
    }
   ],
   "source": [
    "'BatterSide' in myList1"
   ]
  },
  {
   "cell_type": "code",
   "execution_count": 13,
   "metadata": {
    "collapsed": false
   },
   "outputs": [
    {
     "data": {
      "text/plain": [
       "['Unnamed: 0',\n",
       " 'PitchNo',\n",
       " 'Date',\n",
       " 'Time',\n",
       " 'PAofInning',\n",
       " 'PitchofPA',\n",
       " 'Pitcher',\n",
       " 'PitcherThrows',\n",
       " 'PitcherTeam',\n",
       " 'Batter',\n",
       " 'BatterSide',\n",
       " 'BatterTeam',\n",
       " 'Inning',\n",
       " 'Outs',\n",
       " 'Balls',\n",
       " 'Strikes',\n",
       " 'TaggedPitchType',\n",
       " 'AutoPitchType',\n",
       " 'PitchCall',\n",
       " 'KorBB',\n",
       " 'HitType',\n",
       " 'PlayResult',\n",
       " 'OutsOnPlay',\n",
       " 'RunsScored',\n",
       " 'RelSpeed',\n",
       " 'VertRelAngle',\n",
       " 'HorzRelAngle',\n",
       " 'SpinRate',\n",
       " 'SpinAxis',\n",
       " 'Tilt',\n",
       " 'RelHeight',\n",
       " 'RelSide',\n",
       " 'Extension',\n",
       " 'VertBreak',\n",
       " 'InducedVertBreak',\n",
       " 'HorzBreak',\n",
       " 'PlateLocHeight',\n",
       " 'PlateLocSide',\n",
       " 'ZoneSpeed',\n",
       " 'VertApprAngle',\n",
       " 'HorzApprAngle',\n",
       " 'ZoneTime',\n",
       " 'pfxx',\n",
       " 'pfxz',\n",
       " 'x0',\n",
       " 'y0',\n",
       " 'z0',\n",
       " 'vx0',\n",
       " 'vy0',\n",
       " 'vz0',\n",
       " 'ax0',\n",
       " 'ay0',\n",
       " 'az0',\n",
       " 'HomeTeam',\n",
       " 'AwayTeam',\n",
       " 'Stadium',\n",
       " 'Week',\n",
       " 'Week_Factor']"
      ]
     },
     "execution_count": 13,
     "metadata": {},
     "output_type": "execute_result"
    }
   ],
   "source": [
    "list(bat)"
   ]
  },
  {
   "cell_type": "code",
   "execution_count": 14,
   "metadata": {
    "collapsed": true
   },
   "outputs": [],
   "source": [
    "dataDummies = pd.get_dummies(X1)"
   ]
  },
  {
   "cell_type": "code",
   "execution_count": 15,
   "metadata": {
    "collapsed": false
   },
   "outputs": [],
   "source": [
    "from sklearn.model_selection import train_test_split\n",
    "X_train, X_test, y_train, y_test = train_test_split(dataDummies, y, random_state=0)"
   ]
  },
  {
   "cell_type": "code",
   "execution_count": 16,
   "metadata": {
    "collapsed": true
   },
   "outputs": [],
   "source": [
    "#scale the data\n",
    "from sklearn.preprocessing import MinMaxScaler\n",
    "scaler = MinMaxScaler()\n",
    "X_train = scaler.fit_transform(X_train)\n",
    "X_test = scaler.transform(X_test)"
   ]
  },
  {
   "cell_type": "code",
   "execution_count": 17,
   "metadata": {
    "collapsed": false
   },
   "outputs": [
    {
     "name": "stdout",
     "output_type": "stream",
     "text": [
      "Accuracy of Logistic regression classifier on training set: 0.38\n",
      "Accuracy of Logistic regression classifier on test set: 0.38\n"
     ]
    }
   ],
   "source": [
    "from sklearn.linear_model import LogisticRegression\n",
    "logreg = LogisticRegression()\n",
    "logreg.fit(X_train, y_train)\n",
    "print('Accuracy of Logistic regression classifier on training set: {:.2f}'\n",
    "     .format(logreg.score(X_train, y_train)))\n",
    "print('Accuracy of Logistic regression classifier on test set: {:.2f}'\n",
    "     .format(logreg.score(X_test, y_test)))\n"
   ]
  },
  {
   "cell_type": "code",
   "execution_count": 18,
   "metadata": {
    "collapsed": false
   },
   "outputs": [
    {
     "name": "stdout",
     "output_type": "stream",
     "text": [
      "Accuracy of Decision Tree classifier on training set: 1.00\n",
      "Accuracy of Decision Tree classifier on test set: 0.51\n"
     ]
    }
   ],
   "source": [
    "from sklearn.tree import DecisionTreeClassifier\n",
    "clf = DecisionTreeClassifier().fit(X_train, y_train)\n",
    "print('Accuracy of Decision Tree classifier on training set: {:.2f}'\n",
    "     .format(clf.score(X_train, y_train)))\n",
    "print('Accuracy of Decision Tree classifier on test set: {:.2f}'\n",
    "     .format(clf.score(X_test, y_test)))"
   ]
  },
  {
   "cell_type": "code",
   "execution_count": 19,
   "metadata": {
    "collapsed": false
   },
   "outputs": [
    {
     "name": "stdout",
     "output_type": "stream",
     "text": [
      "Accuracy of K-NN classifier on training set: 0.56\n",
      "Accuracy of K-NN classifier on test set: 0.34\n"
     ]
    }
   ],
   "source": [
    "from sklearn.neighbors import KNeighborsClassifier\n",
    "knn = KNeighborsClassifier()\n",
    "knn.fit(X_train, y_train)\n",
    "print('Accuracy of K-NN classifier on training set: {:.2f}'\n",
    "     .format(knn.score(X_train, y_train)))\n",
    "print('Accuracy of K-NN classifier on test set: {:.2f}'\n",
    "     .format(knn.score(X_test, y_test)))\n",
    "#Accuracy of K-NN classifier on training set: 0.68 w/ batter\n",
    "#Accuracy of K-NN classifier on test set: 0.52 w/ batter"
   ]
  },
  {
   "cell_type": "code",
   "execution_count": 20,
   "metadata": {
    "collapsed": false
   },
   "outputs": [
    {
     "name": "stdout",
     "output_type": "stream",
     "text": [
      "Accuracy of LDA classifier on training set: 0.40\n",
      "Accuracy of LDA classifier on test set: 0.37\n"
     ]
    },
    {
     "name": "stderr",
     "output_type": "stream",
     "text": [
      "C:\\Users\\Taylor_Rao\\Anaconda3\\lib\\site-packages\\sklearn\\discriminant_analysis.py:387: UserWarning: Variables are collinear.\n",
      "  warnings.warn(\"Variables are collinear.\")\n"
     ]
    }
   ],
   "source": [
    "from sklearn.discriminant_analysis import LinearDiscriminantAnalysis\n",
    "lda = LinearDiscriminantAnalysis()\n",
    "lda.fit(X_train, y_train)\n",
    "print('Accuracy of LDA classifier on training set: {:.2f}'\n",
    "     .format(lda.score(X_train, y_train)))\n",
    "print('Accuracy of LDA classifier on test set: {:.2f}'\n",
    "     .format(lda.score(X_test, y_test)))\n"
   ]
  },
  {
   "cell_type": "code",
   "execution_count": 21,
   "metadata": {
    "collapsed": false
   },
   "outputs": [
    {
     "name": "stdout",
     "output_type": "stream",
     "text": [
      "Accuracy of GNB classifier on training set: 0.08\n",
      "Accuracy of GNB classifier on test set: 0.06\n"
     ]
    }
   ],
   "source": [
    "from sklearn.naive_bayes import GaussianNB\n",
    "gnb = GaussianNB()\n",
    "gnb.fit(X_train, y_train)\n",
    "print('Accuracy of GNB classifier on training set: {:.2f}'\n",
    "     .format(gnb.score(X_train, y_train)))\n",
    "print('Accuracy of GNB classifier on test set: {:.2f}'\n",
    "     .format(gnb.score(X_test, y_test)))\n",
    "#Accuracy of GNB classifier on training set: 0.32 w/ batter\n",
    "#Accuracy of GNB classifier on test set: 0.30 w/ batter"
   ]
  },
  {
   "cell_type": "code",
   "execution_count": 22,
   "metadata": {
    "collapsed": false
   },
   "outputs": [
    {
     "name": "stdout",
     "output_type": "stream",
     "text": [
      "Accuracy of SVM classifier on training set: 0.37\n",
      "Accuracy of SVM classifier on test set: 0.39\n"
     ]
    }
   ],
   "source": [
    "from sklearn.svm import SVC\n",
    "svm = SVC()\n",
    "svm.fit(X_train, y_train)\n",
    "print('Accuracy of SVM classifier on training set: {:.2f}'\n",
    "     .format(svm.score(X_train, y_train)))\n",
    "print('Accuracy of SVM classifier on test set: {:.2f}'\n",
    "     .format(svm.score(X_test, y_test)))\n",
    "#Accuracy of SVM classifier on training set: 0.60\n",
    "#Accuracy of SVM classifier on test set: 0.62"
   ]
  },
  {
   "cell_type": "code",
   "execution_count": 23,
   "metadata": {
    "collapsed": false
   },
   "outputs": [
    {
     "data": {
      "text/plain": [
       "RandomForestClassifier(bootstrap=True, class_weight=None, criterion='gini',\n",
       "            max_depth=None, max_features='auto', max_leaf_nodes=None,\n",
       "            min_impurity_split=1e-07, min_samples_leaf=1,\n",
       "            min_samples_split=2, min_weight_fraction_leaf=0.0,\n",
       "            n_estimators=1000, n_jobs=1, oob_score=False, random_state=42,\n",
       "            verbose=0, warm_start=False)"
      ]
     },
     "execution_count": 23,
     "metadata": {},
     "output_type": "execute_result"
    }
   ],
   "source": [
    "# Import the model we are using\n",
    "from sklearn.ensemble import RandomForestClassifier\n",
    "# Instantiate model with 1000 decision trees\n",
    "rf = RandomForestClassifier(n_estimators = 1000, random_state = 42)\n",
    "# Train the model on training data\n",
    "rf.fit(X_train, y_train)"
   ]
  },
  {
   "cell_type": "code",
   "execution_count": 24,
   "metadata": {
    "collapsed": false
   },
   "outputs": [
    {
     "name": "stdout",
     "output_type": "stream",
     "text": [
      "Accuracy of SVM classifier on training set: 1.00\n",
      "Accuracy of SVM classifier on test set: 0.59\n"
     ]
    }
   ],
   "source": [
    "print('Accuracy of SVM classifier on training set: {:.2f}'\n",
    "     .format(rf.score(X_train, y_train)))\n",
    "print('Accuracy of SVM classifier on test set: {:.2f}'\n",
    "     .format(rf.score(X_test, y_test)))"
   ]
  },
  {
   "cell_type": "code",
   "execution_count": 25,
   "metadata": {
    "collapsed": true
   },
   "outputs": [],
   "source": [
    "myList = []\n",
    "funlist = list(dataDummies.columns)\n",
    "for i in funlist:\n",
    "    if '_' in i:\n",
    "        tempList = []\n",
    "        s1 = i.split('_')[0]\n",
    "        for j in funlist:\n",
    "            if s1 == j.split('_')[0]:\n",
    "                tempList.append(j)\n",
    "        myList.append(tempList)\n",
    "    else:\n",
    "        myList.append(i)\n",
    "        \n",
    "def removeDuplicates(listofElements):\n",
    "    \n",
    "    # Create an empty list to store unique elements\n",
    "    uniqueList = []\n",
    "    \n",
    "    # Iterate over the original list and for each element\n",
    "    # add it to uniqueList, if its not already there.\n",
    "    for elem in listofElements:\n",
    "        if elem not in uniqueList:\n",
    "            uniqueList.append(elem)\n",
    "    \n",
    "    # Return the list of unique elements        \n",
    "    return uniqueList\n",
    "\n",
    "myList = removeDuplicates(myList)\n",
    "\n",
    "del myList[-1]\n",
    "\n",
    "\n",
    "\n",
    "\n",
    "\n",
    "%matplotlib inline\n",
    "import matplotlib.pyplot as plt\n",
    "plt.rcParams['figure.figsize'] = [20, 5]\n",
    "\n",
    "def forward(k, method):\n",
    "    pla = dataDummies.iloc[:,55:71]\n",
    "    pvar = np.repeat([None], k)\n",
    "    names = ['none', 'batters']\n",
    "    \n",
    "    if method == 'LogisticRegression':\n",
    "        from sklearn.linear_model import LogisticRegression\n",
    "        logreg = LogisticRegression()\n",
    "        \n",
    "        X_train, X_test, y_train, y_test = train_test_split(pla, y, random_state=0)\n",
    "        scaler = MinMaxScaler()\n",
    "        X_train = scaler.fit_transform(X_train)\n",
    "        X_test = scaler.transform(X_test)        \n",
    "        logreg.fit(X_train, y_train)\n",
    "        player = logreg.score(X_test, y_test)\n",
    "    \n",
    "        for j in range(0,k):\n",
    "            accList = []\n",
    "            for i in myList:\n",
    "                data = pd.concat([pla,dataDummies[i]], axis=1)\n",
    "                X_train, X_test, y_train, y_test = train_test_split(data, y, random_state=0)\n",
    "\n",
    "                scaler = MinMaxScaler()\n",
    "                X_train = scaler.fit_transform(X_train)\n",
    "                X_test = scaler.transform(X_test)\n",
    "                \n",
    "                logreg.fit(X_train, y_train)\n",
    "                accList.append(logreg.score(X_test, y_test))\n",
    "                \n",
    "            pvar[j] = max(accList)    \n",
    "            ind = accList.index(max(accList))\n",
    "            bla = str(myList[ind])\n",
    "            names.append(bla[:].split('_')[0])\n",
    "            pla = pd.concat([pla, dataDummies[myList[ind]]] , axis = 1)\n",
    "            del myList[ind] \n",
    "            \n",
    "    if method == 'DecisionTree':    \n",
    "       \n",
    "        from sklearn.tree import DecisionTreeClassifier\n",
    "        X_train, X_test, y_train, y_test = train_test_split(pla, y, random_state=0)\n",
    "        scaler = MinMaxScaler()\n",
    "        X_train = scaler.fit_transform(X_train)\n",
    "        X_test = scaler.transform(X_test)        \n",
    "        clf = DecisionTreeClassifier().fit(X_train, y_train)\n",
    "        player = clf.score(X_test, y_test)\n",
    "    \n",
    "        for j in range(0,k):\n",
    "            accList = []\n",
    "            for i in myList:\n",
    "                data = pd.concat([pla,dataDummies[i]], axis=1)\n",
    "                X_train, X_test, y_train, y_test = train_test_split(data, y, random_state=0)\n",
    "\n",
    "                scaler = MinMaxScaler()\n",
    "                X_train = scaler.fit_transform(X_train)\n",
    "                X_test = scaler.transform(X_test)\n",
    "                \n",
    "                clf.fit(X_train, y_train)\n",
    "                accList.append(clf.score(X_test, y_test))\n",
    "                \n",
    "            pvar[j] = max(accList)    \n",
    "            ind = accList.index(max(accList))\n",
    "            bla = str(myList[ind])\n",
    "            names.append(bla[:].split('_')[0])\n",
    "            pla = pd.concat([pla, dataDummies[myList[ind]]] , axis = 1)\n",
    "            del myList[ind] \n",
    "            \n",
    "    if method == 'RandomForest':    \n",
    "       \n",
    "        from sklearn.ensemble import RandomForestRegressor\n",
    "        rf = RandomForestRegressor(n_estimators = 100, random_state = 42)  # tree size is reduced for speed\n",
    "        X_train, X_test, y_train, y_test = train_test_split(pla, y, random_state=0)\n",
    "        scaler = MinMaxScaler()\n",
    "        X_train = scaler.fit_transform(X_train)\n",
    "        X_test = scaler.transform(X_test)        \n",
    "\n",
    "        \n",
    "        rf.fit(X_train, y_train)\n",
    "        player = rf.score(X_test, y_test)\n",
    "    \n",
    "        for j in range(0,k):\n",
    "            accList = []\n",
    "            for i in myList:\n",
    "                data = pd.concat([pla,dataDummies[i]], axis=1)\n",
    "                X_train, X_test, y_train, y_test = train_test_split(data, y, random_state=0)\n",
    "\n",
    "                scaler = MinMaxScaler()\n",
    "                X_train = scaler.fit_transform(X_train)\n",
    "                X_test = scaler.transform(X_test)\n",
    "                \n",
    "                rf.fit(X_train, y_train)\n",
    "                accList.append(rf.score(X_test, y_test))\n",
    "                \n",
    "            pvar[j] = max(accList)    \n",
    "            ind = accList.index(max(accList))\n",
    "            bla = str(myList[ind])\n",
    "            names.append(bla[:].split('_')[0])\n",
    "            pla = pd.concat([pla, dataDummies[myList[ind]]] , axis = 1)\n",
    "            del myList[ind] \n",
    "            \n",
    "    pvar = np.insert(pvar, 0, player)\n",
    "\n",
    "    novar = max(bat.groupby('PitchCall').size())/len(bat.PitchCall)\n",
    "    pvar = np.insert(pvar, 0, novar)\n",
    "\n",
    "\n",
    "    df = pd.DataFrame({'lab': names, 'val': pvar})\n",
    "    ax = df.plot.bar(x='lab', y='val', rot=0)\n",
    "    ax.plot()\n",
    "    print(pvar)\n"
   ]
  },
  {
   "cell_type": "code",
   "execution_count": 26,
   "metadata": {
    "collapsed": false
   },
   "outputs": [
    {
     "name": "stdout",
     "output_type": "stream",
     "text": [
      "[0.3705150976909414 0.3821022727272727 0.38636363636363635\n",
      " 0.38920454545454547 0.38920454545454547 0.38920454545454547\n",
      " 0.38920454545454547 0.38920454545454547 0.38920454545454547\n",
      " 0.38991477272727271 0.390625 0.39133522727272729]\n"
     ]
    },
    {
     "data": {
      "image/png": "[encoded data removed]",
      "text/plain": [
       "<matplotlib.figure.Figure at 0x2132598d630>"
      ]
     },
     "metadata": {},
     "output_type": "display_data"
    }
   ],
   "source": [
    "forward(10, 'LogisticRegression')"
   ]
  },
  {
   "cell_type": "code",
   "execution_count": 27,
   "metadata": {
    "collapsed": false
   },
   "outputs": [
    {
     "name": "stdout",
     "output_type": "stream",
     "text": [
      "[0.3705150976909414 0.38139204545454547 0.41690340909090912\n",
      " 0.49005681818181818 0.52059659090909094 0.53196022727272729\n",
      " 0.52698863636363635 0.53551136363636365 0.54545454545454541\n",
      " 0.54119318181818177 0.5390625 0.53125]\n"
     ]
    },
    {
     "data": {
      "image/png": "[encoded data removed]",
      "text/plain": [
       "<matplotlib.figure.Figure at 0x2132a0a3358>"
      ]
     },
     "metadata": {},
     "output_type": "display_data"
    }
   ],
   "source": [
    "forward(10, 'DecisionTree')"
   ]
  },
  {
   "cell_type": "code",
   "execution_count": 28,
   "metadata": {
    "collapsed": false
   },
   "outputs": [
    {
     "name": "stdout",
     "output_type": "stream",
     "text": [
      "[0.3705150976909414 0.0014657813369575168 0.00038244380842111797\n",
      " -0.011614795425717972 0.012933235544656196 0.17307893161843124\n",
      " 0.26572821143042202 0.31952684089568473 0.3623111728613827\n",
      " 0.36784251267183365 0.37408190303679312 0.37855225657864722]\n"
     ]
    },
    {
     "data": {
      "image/png": "[encoded data removed]",
      "text/plain": [
       "<matplotlib.figure.Figure at 0x2132a178eb8>"
      ]
     },
     "metadata": {},
     "output_type": "display_data"
    }
   ],
   "source": [
    "forward(10, 'RandomForest')"
   ]
  },
  {
   "cell_type": "code",
   "execution_count": 31,
   "metadata": {
    "collapsed": false,
    "scrolled": true
   },
   "outputs": [
    {
     "name": "stdout",
     "output_type": "stream",
     "text": [
      "enter PlateLocHeight: 1.76\n",
      "enter PlateLocSide: 0.35\n",
      "enter VertRelAng: -3.56\n",
      "enter TaggedPitchType: Fastball\n",
      "\n",
      "\n",
      "DeLoach, Zach : \n",
      " BallCalled:  0.09     StrikeCalled:  0.021     Inplay:  0.827     FoulBall:  0.047     HitbyPitch:  0.015     Undefined:  0.0     BallIntentional:  0.0 \n",
      "\n",
      "Helman, Michael : \n",
      " BallCalled:  0.116     StrikeCalled:  0.059     Inplay:  0.219     FoulBall:  0.515     HitbyPitch:  0.086     Undefined:  0.005     BallIntentional:  0.0 \n",
      "\n",
      "Shewmake, Braden : \n",
      " BallCalled:  0.335     StrikeCalled:  0.024     Inplay:  0.299     FoulBall:  0.217     HitbyPitch:  0.125     Undefined:  0.0     BallIntentional:  0.0 \n",
      "\n",
      "Andritsos, Chris : \n",
      " BallCalled:  0.128     StrikeCalled:  0.047     Inplay:  0.246     FoulBall:  0.514     HitbyPitch:  0.065     Undefined:  0.0     BallIntentional:  0.0 \n",
      "\n",
      "Bedford, Cole : \n",
      " BallCalled:  0.151     StrikeCalled:  0.028     Inplay:  0.477     FoulBall:  0.256     HitbyPitch:  0.088     Undefined:  0.0     BallIntentional:  0.0 \n",
      "\n",
      "Janca, George : \n",
      " BallCalled:  0.11     StrikeCalled:  0.031     Inplay:  0.396     FoulBall:  0.274     HitbyPitch:  0.189     Undefined:  0.0     BallIntentional:  0.0 \n",
      "\n",
      "Frizzell, Will : \n",
      " BallCalled:  0.136     StrikeCalled:  0.237     Inplay:  0.389     FoulBall:  0.199     HitbyPitch:  0.039     Undefined:  0.0     BallIntentional:  0.0 \n",
      "\n",
      "Foster, Logan : \n",
      " BallCalled:  0.068     StrikeCalled:  0.124     Inplay:  0.511     FoulBall:  0.087     HitbyPitch:  0.21     Undefined:  0.0     BallIntentional:  0.0 \n",
      "\n",
      "Schoenvogel, Baine : \n",
      " BallCalled:  0.208     StrikeCalled:  0.044     Inplay:  0.538     FoulBall:  0.16     HitbyPitch:  0.05     Undefined:  0.0     BallIntentional:  0.0 \n",
      "\n",
      "Walters, Aaron : \n",
      " BallCalled:  0.351     StrikeCalled:  0.036     Inplay:  0.288     FoulBall:  0.227     HitbyPitch:  0.098     Undefined:  0.0     BallIntentional:  0.0 \n",
      "\n",
      "Coleman, Hunter  : \n",
      " BallCalled:  0.115     StrikeCalled:  0.061     Inplay:  0.452     FoulBall:  0.225     HitbyPitch:  0.147     Undefined:  0.0     BallIntentional:  0.0 \n",
      "\n",
      "Wingate, Allonte : \n",
      " BallCalled:  0.11     StrikeCalled:  0.052     Inplay:  0.353     FoulBall:  0.458     HitbyPitch:  0.027     Undefined:  0.0     BallIntentional:  0.0 \n",
      "\n",
      "Coleman, Hunter : \n",
      " BallCalled:  0.092     StrikeCalled:  0.053     Inplay:  0.61     FoulBall:  0.107     HitbyPitch:  0.138     Undefined:  0.0     BallIntentional:  0.0 \n",
      "\n",
      "Taylor, Cole : \n",
      " BallCalled:  0.115     StrikeCalled:  0.16     Inplay:  0.416     FoulBall:  0.278     HitbyPitch:  0.031     Undefined:  0.0     BallIntentional:  0.0 \n",
      "\n",
      "Morris, Chandler : \n",
      " BallCalled:  0.131     StrikeCalled:  0.16     Inplay:  0.552     FoulBall:  0.122     HitbyPitch:  0.035     Undefined:  0.0     BallIntentional:  0.0 \n",
      "\n",
      "Blake, Cam : \n",
      " BallCalled:  0.072     StrikeCalled:  0.055     Inplay:  0.441     FoulBall:  0.318     HitbyPitch:  0.114     Undefined:  0.0     BallIntentional:  0.0 \n",
      "\n"
     ]
    }
   ],
   "source": [
    "#PlateHeight = 1.084302\n",
    "#PlateSide = -0.382324\n",
    "#RelAng = -3.393975\n",
    "#PitchType = 'Curveball'\n",
    "\n",
    "import pandas as pd\n",
    "from sklearn.ensemble import RandomForestClassifier\n",
    "\n",
    "Players = X1.Batter\n",
    "Tagged = X1.TaggedPitchType\n",
    "PlateLocH = X1.PlateLocHeight\n",
    "PlateLocS = X1.PlateLocSide\n",
    "RelVertAng = X1.VertRelAngle\n",
    "\n",
    "data = pd.concat([Tagged, PlateLocH, PlateLocS, RelVertAng, Players], axis =1)\n",
    "\n",
    "rf = RandomForestClassifier(n_estimators = 1000, random_state = 42)\n",
    "\n",
    "PlateHeight = float(input('enter PlateLocHeight: '))\n",
    "PlateSide = float(input('enter PlateLocSide: '))\n",
    "RelAng = float(input('enter VertRelAng: '))\n",
    "PitchType = input('enter TaggedPitchType: ')\n",
    "print('\\n')\n",
    "#data2 = pd.DataFrame([[PitchType, PlateHeight, PlateSide, RelAnd, dud]])\n",
    "\n",
    "for i in data.Batter.unique():\n",
    "    data = pd.concat([Tagged, PlateLocH, PlateLocS, RelVertAng, Players], axis =1)\n",
    "    data2 = pd.DataFrame([[PitchType, PlateHeight, PlateSide, RelAng, i]], columns = ['TaggedPitchType', 'PlateLocHeight', 'PlateLocSide','VertRelAngle','Batter'])\n",
    "    #print(i)\n",
    "    data = data.append(data2)\n",
    "    #print(data2)\n",
    "    dummies = pd.get_dummies(data)\n",
    "    x = dummies.iloc[-1,:]\n",
    "    dummies = dummies[:-1]\n",
    "    #print(x)\n",
    "    #print(dummies.shape)-3.0\n",
    "    rf.fit(dummies, y)\n",
    "    rfList = rf.predict_proba([x])\n",
    "    #print(i, rfList[0][1])\n",
    "    print(i,':','\\n','BallCalled: ', rfList[0][0],'   ','StrikeCalled: ', rfList[0][1],'   ','Inplay: ', rfList[0][2],'   ','FoulBall: ', rfList[0][3],'   ','HitbyPitch: ', rfList[0][4],'   ','Undefined: ', rfList[0][5],'   ','BallIntentional: ', rfList[0][6],'\\n')\n",
    "    \n",
    "#Ballcalled:0 StrikeSwinging': 1,'StrikeCalled': 2, 'InPlay' : 3, 'FoulBall' : 4, 'HitByPitch': 5, 'Undefined': 6, 'BallIntentional': 7 })\n"
   ]
  }
 ],
 "metadata": {
  "kernelspec": {
   "display_name": "Python 3",
   "language": "python",
   "name": "python3"
  },
  "language_info": {
   "codemirror_mode": {
    "name": "ipython",
    "version": 3
   },
   "file_extension": ".py",
   "mimetype": "text/x-python",
   "name": "python",
   "nbconvert_exporter": "python",
   "pygments_lexer": "ipython3",
   "version": "3.6.0"
  }
 },
 "nbformat": 4,
 "nbformat_minor": 2
}
