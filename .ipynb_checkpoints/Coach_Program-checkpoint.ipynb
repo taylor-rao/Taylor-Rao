{
 "cells": [
  {
   "cell_type": "markdown",
   "metadata": {},
   "source": [
    "# Imports"
   ]
  },
  {
   "cell_type": "code",
   "execution_count": 1,
   "metadata": {},
   "outputs": [],
   "source": [
    "import pandas as pd\n",
    "import numpy as np\n",
    "from sklearn.model_selection import train_test_split"
   ]
  },
  {
   "cell_type": "code",
   "execution_count": 2,
   "metadata": {},
   "outputs": [
    {
     "data": {
      "text/html": [
       "<div>\n",
       "<style scoped>\n",
       "    .dataframe tbody tr th:only-of-type {\n",
       "        vertical-align: middle;\n",
       "    }\n",
       "\n",
       "    .dataframe tbody tr th {\n",
       "        vertical-align: top;\n",
       "    }\n",
       "\n",
       "    .dataframe thead th {\n",
       "        text-align: right;\n",
       "    }\n",
       "</style>\n",
       "<table border=\"1\" class=\"dataframe\">\n",
       "  <thead>\n",
       "    <tr style=\"text-align: right;\">\n",
       "      <th></th>\n",
       "      <th>PitchNo</th>\n",
       "      <th>Date</th>\n",
       "      <th>Time</th>\n",
       "      <th>PAofInning</th>\n",
       "      <th>PitchofPA</th>\n",
       "      <th>Pitcher</th>\n",
       "      <th>PitcherThrows</th>\n",
       "      <th>PitcherTeam</th>\n",
       "      <th>Batter</th>\n",
       "      <th>BatterSide</th>\n",
       "      <th>...</th>\n",
       "      <th>ax0</th>\n",
       "      <th>ay0</th>\n",
       "      <th>az0</th>\n",
       "      <th>HomeTeam</th>\n",
       "      <th>AwayTeam</th>\n",
       "      <th>Stadium</th>\n",
       "      <th>Week</th>\n",
       "      <th>Week_Factor</th>\n",
       "      <th>ERA</th>\n",
       "      <th>BatAvg</th>\n",
       "    </tr>\n",
       "  </thead>\n",
       "  <tbody>\n",
       "    <tr>\n",
       "      <th>1</th>\n",
       "      <td>1</td>\n",
       "      <td>2018-02-16</td>\n",
       "      <td>18:32:09</td>\n",
       "      <td>1</td>\n",
       "      <td>1</td>\n",
       "      <td>Kolek, Stephen</td>\n",
       "      <td>Right</td>\n",
       "      <td>TEX_AGG</td>\n",
       "      <td>Brodeur, Josh</td>\n",
       "      <td>Left</td>\n",
       "      <td>...</td>\n",
       "      <td>-13.836701</td>\n",
       "      <td>27.655735</td>\n",
       "      <td>-18.856358</td>\n",
       "      <td>TEX_AGG</td>\n",
       "      <td>RHO_RAM</td>\n",
       "      <td>BlueBell</td>\n",
       "      <td>7</td>\n",
       "      <td>Weekday</td>\n",
       "      <td>4.58</td>\n",
       "      <td>0.176</td>\n",
       "    </tr>\n",
       "    <tr>\n",
       "      <th>2</th>\n",
       "      <td>2</td>\n",
       "      <td>2018-02-16</td>\n",
       "      <td>18:32:22</td>\n",
       "      <td>1</td>\n",
       "      <td>2</td>\n",
       "      <td>Kolek, Stephen</td>\n",
       "      <td>Right</td>\n",
       "      <td>TEX_AGG</td>\n",
       "      <td>Brodeur, Josh</td>\n",
       "      <td>Left</td>\n",
       "      <td>...</td>\n",
       "      <td>-14.300696</td>\n",
       "      <td>27.660753</td>\n",
       "      <td>-25.583741</td>\n",
       "      <td>TEX_AGG</td>\n",
       "      <td>RHO_RAM</td>\n",
       "      <td>BlueBell</td>\n",
       "      <td>7</td>\n",
       "      <td>Weekday</td>\n",
       "      <td>4.58</td>\n",
       "      <td>0.176</td>\n",
       "    </tr>\n",
       "    <tr>\n",
       "      <th>3</th>\n",
       "      <td>3</td>\n",
       "      <td>2018-02-16</td>\n",
       "      <td>18:32:35</td>\n",
       "      <td>1</td>\n",
       "      <td>3</td>\n",
       "      <td>Kolek, Stephen</td>\n",
       "      <td>Right</td>\n",
       "      <td>TEX_AGG</td>\n",
       "      <td>Brodeur, Josh</td>\n",
       "      <td>Left</td>\n",
       "      <td>...</td>\n",
       "      <td>-11.867325</td>\n",
       "      <td>27.134283</td>\n",
       "      <td>-16.766669</td>\n",
       "      <td>TEX_AGG</td>\n",
       "      <td>RHO_RAM</td>\n",
       "      <td>BlueBell</td>\n",
       "      <td>7</td>\n",
       "      <td>Weekday</td>\n",
       "      <td>4.58</td>\n",
       "      <td>0.176</td>\n",
       "    </tr>\n",
       "    <tr>\n",
       "      <th>4</th>\n",
       "      <td>4</td>\n",
       "      <td>2018-02-16</td>\n",
       "      <td>18:33:12</td>\n",
       "      <td>1</td>\n",
       "      <td>4</td>\n",
       "      <td>Kolek, Stephen</td>\n",
       "      <td>Right</td>\n",
       "      <td>TEX_AGG</td>\n",
       "      <td>Brodeur, Josh</td>\n",
       "      <td>Left</td>\n",
       "      <td>...</td>\n",
       "      <td>-13.031095</td>\n",
       "      <td>28.623883</td>\n",
       "      <td>-23.478406</td>\n",
       "      <td>TEX_AGG</td>\n",
       "      <td>RHO_RAM</td>\n",
       "      <td>BlueBell</td>\n",
       "      <td>7</td>\n",
       "      <td>Weekday</td>\n",
       "      <td>4.58</td>\n",
       "      <td>0.176</td>\n",
       "    </tr>\n",
       "    <tr>\n",
       "      <th>5</th>\n",
       "      <td>5</td>\n",
       "      <td>2018-02-16</td>\n",
       "      <td>18:33:23</td>\n",
       "      <td>1</td>\n",
       "      <td>5</td>\n",
       "      <td>Kolek, Stephen</td>\n",
       "      <td>Right</td>\n",
       "      <td>TEX_AGG</td>\n",
       "      <td>Brodeur, Josh</td>\n",
       "      <td>Left</td>\n",
       "      <td>...</td>\n",
       "      <td>-11.441016</td>\n",
       "      <td>25.898280</td>\n",
       "      <td>-17.785009</td>\n",
       "      <td>TEX_AGG</td>\n",
       "      <td>RHO_RAM</td>\n",
       "      <td>BlueBell</td>\n",
       "      <td>7</td>\n",
       "      <td>Weekday</td>\n",
       "      <td>4.58</td>\n",
       "      <td>0.176</td>\n",
       "    </tr>\n",
       "  </tbody>\n",
       "</table>\n",
       "<p>5 rows × 70 columns</p>\n",
       "</div>"
      ],
      "text/plain": [
       "   PitchNo       Date      Time  PAofInning  PitchofPA         Pitcher  \\\n",
       "1        1 2018-02-16  18:32:09           1          1  Kolek, Stephen   \n",
       "2        2 2018-02-16  18:32:22           1          2  Kolek, Stephen   \n",
       "3        3 2018-02-16  18:32:35           1          3  Kolek, Stephen   \n",
       "4        4 2018-02-16  18:33:12           1          4  Kolek, Stephen   \n",
       "5        5 2018-02-16  18:33:23           1          5  Kolek, Stephen   \n",
       "\n",
       "  PitcherThrows PitcherTeam         Batter BatterSide  ...          ax0  \\\n",
       "1         Right     TEX_AGG  Brodeur, Josh       Left  ...   -13.836701   \n",
       "2         Right     TEX_AGG  Brodeur, Josh       Left  ...   -14.300696   \n",
       "3         Right     TEX_AGG  Brodeur, Josh       Left  ...   -11.867325   \n",
       "4         Right     TEX_AGG  Brodeur, Josh       Left  ...   -13.031095   \n",
       "5         Right     TEX_AGG  Brodeur, Josh       Left  ...   -11.441016   \n",
       "\n",
       "         ay0        az0  HomeTeam  AwayTeam   Stadium Week Week_Factor   ERA  \\\n",
       "1  27.655735 -18.856358   TEX_AGG   RHO_RAM  BlueBell    7     Weekday  4.58   \n",
       "2  27.660753 -25.583741   TEX_AGG   RHO_RAM  BlueBell    7     Weekday  4.58   \n",
       "3  27.134283 -16.766669   TEX_AGG   RHO_RAM  BlueBell    7     Weekday  4.58   \n",
       "4  28.623883 -23.478406   TEX_AGG   RHO_RAM  BlueBell    7     Weekday  4.58   \n",
       "5  25.898280 -17.785009   TEX_AGG   RHO_RAM  BlueBell    7     Weekday  4.58   \n",
       "\n",
       "  BatAvg  \n",
       "1  0.176  \n",
       "2  0.176  \n",
       "3  0.176  \n",
       "4  0.176  \n",
       "5  0.176  \n",
       "\n",
       "[5 rows x 70 columns]"
      ]
     },
     "execution_count": 2,
     "metadata": {},
     "output_type": "execute_result"
    }
   ],
   "source": [
    "#load in data\n",
    "dat= pd.read_excel('original_game_data.xlsx', index_col=0)  # doctest: +SKIP\n",
    "dat.head()"
   ]
  },
  {
   "cell_type": "markdown",
   "metadata": {},
   "source": [
    "# Data Wrangling "
   ]
  },
  {
   "cell_type": "code",
   "execution_count": 3,
   "metadata": {},
   "outputs": [
    {
     "data": {
      "text/html": [
       "<div>\n",
       "<style scoped>\n",
       "    .dataframe tbody tr th:only-of-type {\n",
       "        vertical-align: middle;\n",
       "    }\n",
       "\n",
       "    .dataframe tbody tr th {\n",
       "        vertical-align: top;\n",
       "    }\n",
       "\n",
       "    .dataframe thead th {\n",
       "        text-align: right;\n",
       "    }\n",
       "</style>\n",
       "<table border=\"1\" class=\"dataframe\">\n",
       "  <thead>\n",
       "    <tr style=\"text-align: right;\">\n",
       "      <th></th>\n",
       "      <th>PitchNo</th>\n",
       "      <th>Date</th>\n",
       "      <th>Time</th>\n",
       "      <th>PAofInning</th>\n",
       "      <th>PitchofPA</th>\n",
       "      <th>Pitcher</th>\n",
       "      <th>PitcherThrows</th>\n",
       "      <th>PitcherTeam</th>\n",
       "      <th>Batter</th>\n",
       "      <th>BatterSide</th>\n",
       "      <th>...</th>\n",
       "      <th>ax0</th>\n",
       "      <th>ay0</th>\n",
       "      <th>az0</th>\n",
       "      <th>HomeTeam</th>\n",
       "      <th>AwayTeam</th>\n",
       "      <th>Stadium</th>\n",
       "      <th>Week</th>\n",
       "      <th>Week_Factor</th>\n",
       "      <th>ERA</th>\n",
       "      <th>BatAvg</th>\n",
       "    </tr>\n",
       "  </thead>\n",
       "  <tbody>\n",
       "    <tr>\n",
       "      <th>15</th>\n",
       "      <td>15</td>\n",
       "      <td>2018-02-16</td>\n",
       "      <td>18:41:50</td>\n",
       "      <td>1</td>\n",
       "      <td>1</td>\n",
       "      <td>Wilson, Tyler</td>\n",
       "      <td>Left</td>\n",
       "      <td>RHO_RAM</td>\n",
       "      <td>DeLoach, Zach</td>\n",
       "      <td>Right</td>\n",
       "      <td>...</td>\n",
       "      <td>9.037551</td>\n",
       "      <td>25.938566</td>\n",
       "      <td>-14.985377</td>\n",
       "      <td>TEX_AGG</td>\n",
       "      <td>RHO_RAM</td>\n",
       "      <td>BlueBell</td>\n",
       "      <td>7</td>\n",
       "      <td>Weekday</td>\n",
       "      <td>NaN</td>\n",
       "      <td>NaN</td>\n",
       "    </tr>\n",
       "    <tr>\n",
       "      <th>16</th>\n",
       "      <td>16</td>\n",
       "      <td>2018-02-16</td>\n",
       "      <td>18:42:08</td>\n",
       "      <td>1</td>\n",
       "      <td>2</td>\n",
       "      <td>Wilson, Tyler</td>\n",
       "      <td>Left</td>\n",
       "      <td>RHO_RAM</td>\n",
       "      <td>DeLoach, Zach</td>\n",
       "      <td>Right</td>\n",
       "      <td>...</td>\n",
       "      <td>13.994600</td>\n",
       "      <td>25.126365</td>\n",
       "      <td>-15.372525</td>\n",
       "      <td>TEX_AGG</td>\n",
       "      <td>RHO_RAM</td>\n",
       "      <td>BlueBell</td>\n",
       "      <td>7</td>\n",
       "      <td>Weekday</td>\n",
       "      <td>NaN</td>\n",
       "      <td>NaN</td>\n",
       "    </tr>\n",
       "    <tr>\n",
       "      <th>17</th>\n",
       "      <td>17</td>\n",
       "      <td>2018-02-16</td>\n",
       "      <td>18:42:32</td>\n",
       "      <td>1</td>\n",
       "      <td>3</td>\n",
       "      <td>Wilson, Tyler</td>\n",
       "      <td>Left</td>\n",
       "      <td>RHO_RAM</td>\n",
       "      <td>DeLoach, Zach</td>\n",
       "      <td>Right</td>\n",
       "      <td>...</td>\n",
       "      <td>10.375418</td>\n",
       "      <td>29.264027</td>\n",
       "      <td>-16.209300</td>\n",
       "      <td>TEX_AGG</td>\n",
       "      <td>RHO_RAM</td>\n",
       "      <td>BlueBell</td>\n",
       "      <td>7</td>\n",
       "      <td>Weekday</td>\n",
       "      <td>NaN</td>\n",
       "      <td>NaN</td>\n",
       "    </tr>\n",
       "    <tr>\n",
       "      <th>18</th>\n",
       "      <td>18</td>\n",
       "      <td>2018-02-16</td>\n",
       "      <td>18:42:50</td>\n",
       "      <td>1</td>\n",
       "      <td>4</td>\n",
       "      <td>Wilson, Tyler</td>\n",
       "      <td>Left</td>\n",
       "      <td>RHO_RAM</td>\n",
       "      <td>DeLoach, Zach</td>\n",
       "      <td>Right</td>\n",
       "      <td>...</td>\n",
       "      <td>13.342081</td>\n",
       "      <td>27.708265</td>\n",
       "      <td>-12.368862</td>\n",
       "      <td>TEX_AGG</td>\n",
       "      <td>RHO_RAM</td>\n",
       "      <td>BlueBell</td>\n",
       "      <td>7</td>\n",
       "      <td>Weekday</td>\n",
       "      <td>NaN</td>\n",
       "      <td>NaN</td>\n",
       "    </tr>\n",
       "    <tr>\n",
       "      <th>19</th>\n",
       "      <td>19</td>\n",
       "      <td>2018-02-16</td>\n",
       "      <td>18:43:09</td>\n",
       "      <td>1</td>\n",
       "      <td>5</td>\n",
       "      <td>Wilson, Tyler</td>\n",
       "      <td>Left</td>\n",
       "      <td>RHO_RAM</td>\n",
       "      <td>DeLoach, Zach</td>\n",
       "      <td>Right</td>\n",
       "      <td>...</td>\n",
       "      <td>13.347353</td>\n",
       "      <td>26.468049</td>\n",
       "      <td>-12.770299</td>\n",
       "      <td>TEX_AGG</td>\n",
       "      <td>RHO_RAM</td>\n",
       "      <td>BlueBell</td>\n",
       "      <td>7</td>\n",
       "      <td>Weekday</td>\n",
       "      <td>NaN</td>\n",
       "      <td>NaN</td>\n",
       "    </tr>\n",
       "  </tbody>\n",
       "</table>\n",
       "<p>5 rows × 70 columns</p>\n",
       "</div>"
      ],
      "text/plain": [
       "    PitchNo       Date      Time  PAofInning  PitchofPA        Pitcher  \\\n",
       "15       15 2018-02-16  18:41:50           1          1  Wilson, Tyler   \n",
       "16       16 2018-02-16  18:42:08           1          2  Wilson, Tyler   \n",
       "17       17 2018-02-16  18:42:32           1          3  Wilson, Tyler   \n",
       "18       18 2018-02-16  18:42:50           1          4  Wilson, Tyler   \n",
       "19       19 2018-02-16  18:43:09           1          5  Wilson, Tyler   \n",
       "\n",
       "   PitcherThrows PitcherTeam         Batter BatterSide  ...          ax0  \\\n",
       "15          Left     RHO_RAM  DeLoach, Zach      Right  ...     9.037551   \n",
       "16          Left     RHO_RAM  DeLoach, Zach      Right  ...    13.994600   \n",
       "17          Left     RHO_RAM  DeLoach, Zach      Right  ...    10.375418   \n",
       "18          Left     RHO_RAM  DeLoach, Zach      Right  ...    13.342081   \n",
       "19          Left     RHO_RAM  DeLoach, Zach      Right  ...    13.347353   \n",
       "\n",
       "          ay0        az0  HomeTeam  AwayTeam   Stadium Week Week_Factor ERA  \\\n",
       "15  25.938566 -14.985377   TEX_AGG   RHO_RAM  BlueBell    7     Weekday NaN   \n",
       "16  25.126365 -15.372525   TEX_AGG   RHO_RAM  BlueBell    7     Weekday NaN   \n",
       "17  29.264027 -16.209300   TEX_AGG   RHO_RAM  BlueBell    7     Weekday NaN   \n",
       "18  27.708265 -12.368862   TEX_AGG   RHO_RAM  BlueBell    7     Weekday NaN   \n",
       "19  26.468049 -12.770299   TEX_AGG   RHO_RAM  BlueBell    7     Weekday NaN   \n",
       "\n",
       "   BatAvg  \n",
       "15    NaN  \n",
       "16    NaN  \n",
       "17    NaN  \n",
       "18    NaN  \n",
       "19    NaN  \n",
       "\n",
       "[5 rows x 70 columns]"
      ]
     },
     "execution_count": 3,
     "metadata": {},
     "output_type": "execute_result"
    }
   ],
   "source": [
    "# select only entries where the batter is a Texas A&M player\n",
    "bat=dat[dat.BatterTeam=='TEX_AGG']\n",
    "bat.head()"
   ]
  },
  {
   "cell_type": "markdown",
   "metadata": {},
   "source": [
    "## Exploratory data analysis"
   ]
  },
  {
   "cell_type": "code",
   "execution_count": 4,
   "metadata": {},
   "outputs": [
    {
     "data": {
      "text/plain": [
       "['PitchNo',\n",
       " 'Date',\n",
       " 'Time',\n",
       " 'PAofInning',\n",
       " 'PitchofPA',\n",
       " 'Pitcher',\n",
       " 'PitcherThrows',\n",
       " 'PitcherTeam',\n",
       " 'Batter',\n",
       " 'BatterSide',\n",
       " 'BatterTeam',\n",
       " 'Inning',\n",
       " 'Outs',\n",
       " 'Balls',\n",
       " 'Strikes',\n",
       " 'TaggedPitchType',\n",
       " 'AutoPitchType',\n",
       " 'PitchCall',\n",
       " 'KorBB',\n",
       " 'HitType',\n",
       " 'PlayResult',\n",
       " 'OutsOnPlay',\n",
       " 'RunsScored',\n",
       " 'RelSpeed',\n",
       " 'VertRelAngle',\n",
       " 'HorzRelAngle',\n",
       " 'SpinRate',\n",
       " 'SpinAxis',\n",
       " 'Tilt',\n",
       " 'RelHeight',\n",
       " 'RelSide',\n",
       " 'Extension',\n",
       " 'VertBreak',\n",
       " 'InducedVertBreak',\n",
       " 'HorzBreak',\n",
       " 'PlateLocHeight',\n",
       " 'PlateLocSide',\n",
       " 'ZoneSpeed',\n",
       " 'VertApprAngle',\n",
       " 'HorzApprAngle',\n",
       " 'ZoneTime',\n",
       " 'ExitSpeed',\n",
       " 'Angle',\n",
       " 'Direction',\n",
       " 'HitSpinRate',\n",
       " 'PositionAt110X',\n",
       " 'PositionAt110Y',\n",
       " 'PositionAt110Z',\n",
       " 'Distance',\n",
       " 'LastTrackedDistance',\n",
       " 'Bearing',\n",
       " 'HangTime',\n",
       " 'pfxx',\n",
       " 'pfxz',\n",
       " 'x0',\n",
       " 'y0',\n",
       " 'z0',\n",
       " 'vx0',\n",
       " 'vy0',\n",
       " 'vz0',\n",
       " 'ax0',\n",
       " 'ay0',\n",
       " 'az0',\n",
       " 'HomeTeam',\n",
       " 'AwayTeam',\n",
       " 'Stadium',\n",
       " 'Week',\n",
       " 'Week_Factor',\n",
       " 'ERA',\n",
       " 'BatAvg']"
      ]
     },
     "execution_count": 4,
     "metadata": {},
     "output_type": "execute_result"
    }
   ],
   "source": [
    "list(bat)"
   ]
  },
  {
   "cell_type": "code",
   "execution_count": 5,
   "metadata": {},
   "outputs": [
    {
     "name": "stdout",
     "output_type": "stream",
     "text": [
      "PitchCall\n",
      "BallCalled         2094\n",
      "BallIntentional      40\n",
      "FoulBall            964\n",
      "HitByPitch           27\n",
      "InPlay             1125\n",
      "StrikeCalled        892\n",
      "StrikeSwinging      494\n",
      "Undefined            18\n",
      "dtype: int64\n"
     ]
    }
   ],
   "source": [
    "#Pitchcall will be our response variable\n",
    "print(bat.groupby('PitchCall').size())"
   ]
  },
  {
   "cell_type": "code",
   "execution_count": 6,
   "metadata": {},
   "outputs": [
    {
     "name": "stdout",
     "output_type": "stream",
     "text": [
      "Batter\n",
      "Andritsos, Chris      335\n",
      "Bedford, Cole         444\n",
      "Blake, Cam            135\n",
      "Coleman, Hunter       529\n",
      "Coleman, Hunter        10\n",
      "DeLoach, Zach         679\n",
      "Foster, Logan         567\n",
      "Frizzell, Will        487\n",
      "Helman, Michael       584\n",
      "Janca, George         425\n",
      "Morris, Chandler      106\n",
      "Schoenvogel, Baine    204\n",
      "Shewmake, Braden      590\n",
      "Taylor, Cole           58\n",
      "Walters, Aaron        244\n",
      "Wingate, Allonte      257\n",
      "dtype: int64\n"
     ]
    }
   ],
   "source": [
    "print(bat.groupby('Batter').size())"
   ]
  },
  {
   "cell_type": "code",
   "execution_count": 7,
   "metadata": {},
   "outputs": [
    {
     "data": {
      "text/plain": [
       "PitchNo                   0\n",
       "Date                      0\n",
       "Time                      0\n",
       "PAofInning                0\n",
       "PitchofPA                 0\n",
       "Pitcher                   0\n",
       "PitcherThrows             0\n",
       "PitcherTeam               0\n",
       "Batter                    0\n",
       "BatterSide                0\n",
       "BatterTeam                0\n",
       "Inning                    0\n",
       "Outs                      0\n",
       "Balls                     0\n",
       "Strikes                   0\n",
       "TaggedPitchType           0\n",
       "AutoPitchType             0\n",
       "PitchCall                 0\n",
       "KorBB                     0\n",
       "HitType                   0\n",
       "PlayResult                0\n",
       "OutsOnPlay                0\n",
       "RunsScored                0\n",
       "RelSpeed                  4\n",
       "VertRelAngle              4\n",
       "HorzRelAngle              4\n",
       "SpinRate                 24\n",
       "SpinAxis                  4\n",
       "Tilt                      4\n",
       "RelHeight                 4\n",
       "                       ... \n",
       "ZoneTime                  4\n",
       "ExitSpeed              4381\n",
       "Angle                  4381\n",
       "Direction              4381\n",
       "HitSpinRate            4742\n",
       "PositionAt110X         4902\n",
       "PositionAt110Y         4902\n",
       "PositionAt110Z         4902\n",
       "Distance               4481\n",
       "LastTrackedDistance    4481\n",
       "Bearing                4481\n",
       "HangTime               4481\n",
       "pfxx                      4\n",
       "pfxz                      4\n",
       "x0                        4\n",
       "y0                        4\n",
       "z0                        4\n",
       "vx0                       4\n",
       "vy0                       4\n",
       "vz0                       4\n",
       "ax0                       4\n",
       "ay0                       4\n",
       "az0                       4\n",
       "HomeTeam                  0\n",
       "AwayTeam                  0\n",
       "Stadium                   0\n",
       "Week                      0\n",
       "Week_Factor               0\n",
       "ERA                    5654\n",
       "BatAvg                 5654\n",
       "Length: 70, dtype: int64"
      ]
     },
     "execution_count": 7,
     "metadata": {},
     "output_type": "execute_result"
    }
   ],
   "source": [
    "bat.isnull().sum()"
   ]
  },
  {
   "cell_type": "markdown",
   "metadata": {},
   "source": [
    "## Drop columns with lots of missing values"
   ]
  },
  {
   "cell_type": "code",
   "execution_count": 8,
   "metadata": {},
   "outputs": [],
   "source": [
    "droplist = ['HangTime','ExitSpeed','Angle','Direction','HitSpinRate','PositionAt110X','PositionAt110Y','PositionAt110Z','Distance','LastTrackedDistance','Bearing', 'ERA', 'BatAvg']  \n",
    "bat = bat.drop(droplist, axis= 1)"
   ]
  },
  {
   "cell_type": "code",
   "execution_count": 9,
   "metadata": {},
   "outputs": [],
   "source": [
    "bat = bat.dropna(how='any')"
   ]
  },
  {
   "cell_type": "markdown",
   "metadata": {},
   "source": [
    "## Select all usefull columns"
   ]
  },
  {
   "cell_type": "code",
   "execution_count": 10,
   "metadata": {},
   "outputs": [],
   "source": [
    "myList1 = ['RelSpeed','VertRelAngle', 'InducedVertBreak','HorzRelAngle','SpinRate','SpinAxis','Tilt','RelHeight','RelSide','Extension',\n",
    "         'VertBreak','HorzBreak','PlateLocHeight','PlateLocSide','ZoneSpeed','VertApprAngle',\n",
    "         'HorzApprAngle','ZoneTime','pfxx','pfxz','x0','y0','z0','vx0','vy0',\n",
    "         'vz0','ax0','ay0','az0', 'Inning', 'Week', \n",
    "           'PitcherThrows', 'BatterSide', 'TaggedPitchType', 'AutoPitchType', 'Week_Factor', 'Batter', 'BatterSide']\n",
    "X1 = bat[myList1]"
   ]
  },
  {
   "cell_type": "markdown",
   "metadata": {},
   "source": [
    "## One- hot encode the data"
   ]
  },
  {
   "cell_type": "code",
   "execution_count": 11,
   "metadata": {},
   "outputs": [],
   "source": [
    "dataDummies = pd.get_dummies(X1)"
   ]
  },
  {
   "cell_type": "markdown",
   "metadata": {},
   "source": [
    "## Create response variable"
   ]
  },
  {
   "cell_type": "code",
   "execution_count": 12,
   "metadata": {},
   "outputs": [],
   "source": [
    "y = bat.PitchCall\n",
    "y = y.replace({'BallCalled': 0, 'StrikeSwinging': 1,'StrikeCalled': 2, 'InPlay' : 3, 'FoulBall' : 4, 'HitByPitch': 5, 'Undefined': 6, 'BallIntentional': 7 })"
   ]
  },
  {
   "cell_type": "markdown",
   "metadata": {},
   "source": [
    "# Model Building"
   ]
  },
  {
   "cell_type": "code",
   "execution_count": 13,
   "metadata": {},
   "outputs": [],
   "source": [
    "from sklearn.model_selection import train_test_split\n",
    "X_train, X_test, y_train, y_test = train_test_split(dataDummies, y, random_state=0)"
   ]
  },
  {
   "cell_type": "code",
   "execution_count": 14,
   "metadata": {},
   "outputs": [
    {
     "name": "stderr",
     "output_type": "stream",
     "text": [
      "C:\\Users\\Taylor_Rao\\Anaconda3\\lib\\site-packages\\sklearn\\preprocessing\\data.py:323: DataConversionWarning: Data with input dtype uint8, int64, float64 were all converted to float64 by MinMaxScaler.\n",
      "  return self.partial_fit(X, y)\n"
     ]
    }
   ],
   "source": [
    "#scale the data\n",
    "from sklearn.preprocessing import MinMaxScaler\n",
    "scaler = MinMaxScaler()\n",
    "X_train = scaler.fit_transform(X_train)\n",
    "X_test = scaler.transform(X_test)"
   ]
  },
  {
   "cell_type": "code",
   "execution_count": 15,
   "metadata": {},
   "outputs": [
    {
     "name": "stderr",
     "output_type": "stream",
     "text": [
      "C:\\Users\\Taylor_Rao\\Anaconda3\\lib\\site-packages\\sklearn\\linear_model\\logistic.py:433: FutureWarning: Default solver will be changed to 'lbfgs' in 0.22. Specify a solver to silence this warning.\n",
      "  FutureWarning)\n",
      "C:\\Users\\Taylor_Rao\\Anaconda3\\lib\\site-packages\\sklearn\\linear_model\\logistic.py:460: FutureWarning: Default multi_class will be changed to 'auto' in 0.22. Specify the multi_class option to silence this warning.\n",
      "  \"this warning.\", FutureWarning)\n"
     ]
    },
    {
     "name": "stdout",
     "output_type": "stream",
     "text": [
      "Accuracy of Logistic regression classifier on training set: 0.38\n",
      "Accuracy of Logistic regression classifier on test set: 0.37\n"
     ]
    }
   ],
   "source": [
    "from sklearn.linear_model import LogisticRegression\n",
    "logreg = LogisticRegression()\n",
    "logreg.fit(X_train, y_train)\n",
    "print('Accuracy of Logistic regression classifier on training set: {:.2f}'\n",
    "     .format(logreg.score(X_train, y_train)))\n",
    "print('Accuracy of Logistic regression classifier on test set: {:.2f}'\n",
    "     .format(logreg.score(X_test, y_test)))\n"
   ]
  },
  {
   "cell_type": "code",
   "execution_count": 16,
   "metadata": {},
   "outputs": [
    {
     "name": "stdout",
     "output_type": "stream",
     "text": [
      "Accuracy of Decision Tree classifier on training set: 1.00\n",
      "Accuracy of Decision Tree classifier on test set: 0.50\n"
     ]
    }
   ],
   "source": [
    "from sklearn.tree import DecisionTreeClassifier\n",
    "clf = DecisionTreeClassifier().fit(X_train, y_train)\n",
    "print('Accuracy of Decision Tree classifier on training set: {:.2f}'\n",
    "     .format(clf.score(X_train, y_train)))\n",
    "print('Accuracy of Decision Tree classifier on test set: {:.2f}'\n",
    "     .format(clf.score(X_test, y_test)))"
   ]
  },
  {
   "cell_type": "code",
   "execution_count": 17,
   "metadata": {},
   "outputs": [
    {
     "name": "stdout",
     "output_type": "stream",
     "text": [
      "Accuracy of K-NN classifier on training set: 0.56\n",
      "Accuracy of K-NN classifier on test set: 0.33\n"
     ]
    }
   ],
   "source": [
    "from sklearn.neighbors import KNeighborsClassifier\n",
    "knn = KNeighborsClassifier()\n",
    "knn.fit(X_train, y_train)\n",
    "print('Accuracy of K-NN classifier on training set: {:.2f}'\n",
    "     .format(knn.score(X_train, y_train)))\n",
    "print('Accuracy of K-NN classifier on test set: {:.2f}'\n",
    "     .format(knn.score(X_test, y_test)))\n",
    "#Accuracy of K-NN classifier on training set: 0.68 w/ batter\n",
    "#Accuracy of K-NN classifier on test set: 0.52 w/ batter"
   ]
  },
  {
   "cell_type": "code",
   "execution_count": 18,
   "metadata": {},
   "outputs": [
    {
     "name": "stdout",
     "output_type": "stream",
     "text": [
      "Accuracy of LDA classifier on training set: 0.41\n",
      "Accuracy of LDA classifier on test set: 0.37\n"
     ]
    },
    {
     "name": "stderr",
     "output_type": "stream",
     "text": [
      "C:\\Users\\Taylor_Rao\\Anaconda3\\lib\\site-packages\\sklearn\\discriminant_analysis.py:388: UserWarning: Variables are collinear.\n",
      "  warnings.warn(\"Variables are collinear.\")\n"
     ]
    }
   ],
   "source": [
    "from sklearn.discriminant_analysis import LinearDiscriminantAnalysis\n",
    "lda = LinearDiscriminantAnalysis()\n",
    "lda.fit(X_train, y_train)\n",
    "print('Accuracy of LDA classifier on training set: {:.2f}'\n",
    "     .format(lda.score(X_train, y_train)))\n",
    "print('Accuracy of LDA classifier on test set: {:.2f}'\n",
    "     .format(lda.score(X_test, y_test)))\n"
   ]
  },
  {
   "cell_type": "code",
   "execution_count": 19,
   "metadata": {},
   "outputs": [
    {
     "name": "stdout",
     "output_type": "stream",
     "text": [
      "Accuracy of GNB classifier on training set: 0.08\n",
      "Accuracy of GNB classifier on test set: 0.06\n"
     ]
    }
   ],
   "source": [
    "from sklearn.naive_bayes import GaussianNB\n",
    "gnb = GaussianNB()\n",
    "gnb.fit(X_train, y_train)\n",
    "print('Accuracy of GNB classifier on training set: {:.2f}'\n",
    "     .format(gnb.score(X_train, y_train)))\n",
    "print('Accuracy of GNB classifier on test set: {:.2f}'\n",
    "     .format(gnb.score(X_test, y_test)))\n",
    "#Accuracy of GNB classifier on training set: 0.32 w/ batter\n",
    "#Accuracy of GNB classifier on test set: 0.30 w/ batter"
   ]
  },
  {
   "cell_type": "code",
   "execution_count": 20,
   "metadata": {},
   "outputs": [
    {
     "name": "stderr",
     "output_type": "stream",
     "text": [
      "C:\\Users\\Taylor_Rao\\Anaconda3\\lib\\site-packages\\sklearn\\svm\\base.py:196: FutureWarning: The default value of gamma will change from 'auto' to 'scale' in version 0.22 to account better for unscaled features. Set gamma explicitly to 'auto' or 'scale' to avoid this warning.\n",
      "  \"avoid this warning.\", FutureWarning)\n"
     ]
    },
    {
     "name": "stdout",
     "output_type": "stream",
     "text": [
      "Accuracy of SVM classifier on training set: 0.37\n",
      "Accuracy of SVM classifier on test set: 0.39\n"
     ]
    }
   ],
   "source": [
    "from sklearn.svm import SVC\n",
    "svm = SVC()\n",
    "svm.fit(X_train, y_train)\n",
    "print('Accuracy of SVM classifier on training set: {:.2f}'\n",
    "     .format(svm.score(X_train, y_train)))\n",
    "print('Accuracy of SVM classifier on test set: {:.2f}'\n",
    "     .format(svm.score(X_test, y_test)))\n",
    "#Accuracy of SVM classifier on training set: 0.60\n",
    "#Accuracy of SVM classifier on test set: 0.62"
   ]
  },
  {
   "cell_type": "code",
   "execution_count": 21,
   "metadata": {},
   "outputs": [
    {
     "data": {
      "text/plain": [
       "RandomForestClassifier(bootstrap=True, class_weight=None, criterion='gini',\n",
       "            max_depth=None, max_features='auto', max_leaf_nodes=None,\n",
       "            min_impurity_decrease=0.0, min_impurity_split=None,\n",
       "            min_samples_leaf=1, min_samples_split=2,\n",
       "            min_weight_fraction_leaf=0.0, n_estimators=1000, n_jobs=None,\n",
       "            oob_score=False, random_state=42, verbose=0, warm_start=False)"
      ]
     },
     "execution_count": 21,
     "metadata": {},
     "output_type": "execute_result"
    }
   ],
   "source": [
    "# Import the model we are using\n",
    "from sklearn.ensemble import RandomForestClassifier\n",
    "# Instantiate model with 1000 decision trees\n",
    "rf = RandomForestClassifier(n_estimators = 1000, random_state = 42)\n",
    "# Train the model on training data\n",
    "rf.fit(X_train, y_train)"
   ]
  },
  {
   "cell_type": "code",
   "execution_count": 22,
   "metadata": {},
   "outputs": [
    {
     "name": "stdout",
     "output_type": "stream",
     "text": [
      "Accuracy of SVM classifier on training set: 1.00\n",
      "Accuracy of SVM classifier on test set: 0.59\n"
     ]
    }
   ],
   "source": [
    "print('Accuracy of Random Forest classifier on training set: {:.2f}'\n",
    "     .format(rf.score(X_train, y_train)))\n",
    "print('Accuracy of Random Forest classifier on test set: {:.2f}'\n",
    "     .format(rf.score(X_test, y_test)))"
   ]
  },
  {
   "cell_type": "markdown",
   "metadata": {},
   "source": [
    "It can be seen here that tree based models have higher accuracy on the test data. In order to come up with our final model, feature selection will be performed with logistic regresssion, decision tree, and random forest."
   ]
  },
  {
   "cell_type": "markdown",
   "metadata": {},
   "source": [
    "# Feature Seclection"
   ]
  },
  {
   "cell_type": "markdown",
   "metadata": {},
   "source": [
    "IMPORTANT NOTE: the following cell must be run directly before each of the three cells after it."
   ]
  },
  {
   "cell_type": "code",
   "execution_count": 39,
   "metadata": {},
   "outputs": [],
   "source": [
    "import warnings\n",
    "warnings.filterwarnings(\"ignore\")\n",
    "\n",
    "myList = []\n",
    "funlist = list(dataDummies.columns)\n",
    "for i in funlist:\n",
    "    if '_' in i:\n",
    "        tempList = []\n",
    "        s1 = i.split('_')[0]\n",
    "        for j in funlist:\n",
    "            if s1 == j.split('_')[0]:\n",
    "                tempList.append(j)\n",
    "        myList.append(tempList)\n",
    "    else:\n",
    "        myList.append(i)\n",
    "        \n",
    "def removeDuplicates(listofElements):\n",
    "    \n",
    "    # Create an empty list to store unique elements\n",
    "    uniqueList = []\n",
    "    \n",
    "    # Iterate over the original list and for each element\n",
    "    # add it to uniqueList, if its not already there.\n",
    "    for elem in listofElements:\n",
    "        if elem not in uniqueList:\n",
    "            uniqueList.append(elem)\n",
    "    \n",
    "    # Return the list of unique elements        \n",
    "    return uniqueList\n",
    "\n",
    "myList = removeDuplicates(myList)\n",
    "\n",
    "del myList[-1]\n",
    "\n",
    "\n",
    "\n",
    "\n",
    "\n",
    "%matplotlib inline\n",
    "import matplotlib.pyplot as plt\n",
    "plt.rcParams['figure.figsize'] = [20, 5]\n",
    "\n",
    "def forward(k, method):\n",
    "    pla = dataDummies.iloc[:,55:71]\n",
    "    pvar = np.repeat([None], k)\n",
    "    names = ['none', 'batters']\n",
    "    \n",
    "    if method == 'LogisticRegression':\n",
    "        from sklearn.linear_model import LogisticRegression\n",
    "        logreg = LogisticRegression(solver='liblinear')\n",
    "        \n",
    "        X_train, X_test, y_train, y_test = train_test_split(pla, y, random_state=0)\n",
    "        scaler = MinMaxScaler()\n",
    "        X_train = scaler.fit_transform(X_train)\n",
    "        X_test = scaler.transform(X_test)        \n",
    "        logreg.fit(X_train, y_train)\n",
    "        player = logreg.score(X_test, y_test)\n",
    "    \n",
    "        for j in range(0,k):\n",
    "            accList = []\n",
    "            for i in myList:\n",
    "                data = pd.concat([pla,dataDummies[i]], axis=1)\n",
    "                X_train, X_test, y_train, y_test = train_test_split(data, y, random_state=0)\n",
    "\n",
    "                scaler = MinMaxScaler()\n",
    "                X_train = scaler.fit_transform(X_train)\n",
    "                X_test = scaler.transform(X_test)\n",
    "                \n",
    "                logreg.fit(X_train, y_train)\n",
    "                accList.append(logreg.score(X_test, y_test))\n",
    "                \n",
    "            pvar[j] = max(accList)    \n",
    "            ind = accList.index(max(accList))\n",
    "            bla = str(myList[ind])\n",
    "            names.append(bla[:].split('_')[0])\n",
    "            pla = pd.concat([pla, dataDummies[myList[ind]]] , axis = 1)\n",
    "            del myList[ind] \n",
    "            \n",
    "    if method == 'DecisionTree':    \n",
    "       \n",
    "        from sklearn.tree import DecisionTreeClassifier\n",
    "        X_train, X_test, y_train, y_test = train_test_split(pla, y, random_state=0)\n",
    "        scaler = MinMaxScaler()\n",
    "        X_train = scaler.fit_transform(X_train)\n",
    "        X_test = scaler.transform(X_test)        \n",
    "        clf = DecisionTreeClassifier().fit(X_train, y_train)\n",
    "        player = clf.score(X_test, y_test)\n",
    "    \n",
    "        for j in range(0,k):\n",
    "            accList = []\n",
    "            for i in myList:\n",
    "                data = pd.concat([pla,dataDummies[i]], axis=1)\n",
    "                X_train, X_test, y_train, y_test = train_test_split(data, y, random_state=0)\n",
    "\n",
    "                scaler = MinMaxScaler()\n",
    "                X_train = scaler.fit_transform(X_train)\n",
    "                X_test = scaler.transform(X_test)\n",
    "                \n",
    "                clf.fit(X_train, y_train)\n",
    "                accList.append(clf.score(X_test, y_test))\n",
    "                \n",
    "            pvar[j] = max(accList)    \n",
    "            ind = accList.index(max(accList))\n",
    "            bla = str(myList[ind])\n",
    "            names.append(bla[:].split('_')[0])\n",
    "            pla = pd.concat([pla, dataDummies[myList[ind]]] , axis = 1)\n",
    "            del myList[ind] \n",
    "            \n",
    "    if method == 'RandomForest':    \n",
    "       \n",
    "        from sklearn.ensemble import RandomForestRegressor\n",
    "        rf = RandomForestRegressor(n_estimators = 100, random_state = 42)  # tree size is reduced for speed\n",
    "        X_train, X_test, y_train, y_test = train_test_split(pla, y, random_state=0)\n",
    "        scaler = MinMaxScaler()\n",
    "        X_train = scaler.fit_transform(X_train)\n",
    "        X_test = scaler.transform(X_test)        \n",
    "\n",
    "        \n",
    "        rf.fit(X_train, y_train)\n",
    "        player = rf.score(X_test, y_test)\n",
    "    \n",
    "        for j in range(0,k):\n",
    "            accList = []\n",
    "            for i in myList:\n",
    "                data = pd.concat([pla,dataDummies[i]], axis=1)\n",
    "                X_train, X_test, y_train, y_test = train_test_split(data, y, random_state=0)\n",
    "\n",
    "                scaler = MinMaxScaler()\n",
    "                X_train = scaler.fit_transform(X_train)\n",
    "                X_test = scaler.transform(X_test)\n",
    "                \n",
    "                rf.fit(X_train, y_train)\n",
    "                accList.append(rf.score(X_test, y_test))\n",
    "                \n",
    "            pvar[j] = max(accList)    \n",
    "            ind = accList.index(max(accList))\n",
    "            bla = str(myList[ind])\n",
    "            names.append(bla[:].split('_')[0])\n",
    "            pla = pd.concat([pla, dataDummies[myList[ind]]] , axis = 1)\n",
    "            del myList[ind] \n",
    "            \n",
    "    pvar = np.insert(pvar, 0, player)\n",
    "\n",
    "    novar = max(bat.groupby('PitchCall').size())/len(bat.PitchCall)\n",
    "    pvar = np.insert(pvar, 0, novar)\n",
    "\n",
    "\n",
    "    df = pd.DataFrame({'lab': names, 'val': pvar})\n",
    "    ax = df.plot.bar(x='lab', y='val', rot=0)\n",
    "    ax.plot()\n",
    "    print(pvar)\n"
   ]
  },
  {
   "cell_type": "code",
   "execution_count": 36,
   "metadata": {},
   "outputs": [
    {
     "name": "stdout",
     "output_type": "stream",
     "text": [
      "[0.3705150976909414 0.3821022727272727 0.38636363636363635\n",
      " 0.38920454545454547 0.38920454545454547 0.38920454545454547\n",
      " 0.38920454545454547 0.38920454545454547 0.38920454545454547\n",
      " 0.3899147727272727 0.390625 0.3913352272727273]\n"
     ]
    },
    {
     "data": {
      "image/png": "[encoded data removed]",
      "text/plain": [
       "<Figure size 1440x360 with 1 Axes>"
      ]
     },
     "metadata": {
      "needs_background": "light"
     },
     "output_type": "display_data"
    }
   ],
   "source": [
    "forward(10, 'LogisticRegression')"
   ]
  },
  {
   "cell_type": "code",
   "execution_count": 38,
   "metadata": {},
   "outputs": [
    {
     "name": "stdout",
     "output_type": "stream",
     "text": [
      "[0.3705150976909414 0.38139204545454547 0.41761363636363635\n",
      " 0.48792613636363635 0.5198863636363636 0.5362215909090909\n",
      " 0.5369318181818182 0.5362215909090909 0.5397727272727273\n",
      " 0.5355113636363636 0.5490056818181818 0.5397727272727273]\n"
     ]
    },
    {
     "data": {
      "image/png": "[encoded data removed]",
      "text/plain": [
       "<Figure size 1440x360 with 1 Axes>"
      ]
     },
     "metadata": {
      "needs_background": "light"
     },
     "output_type": "display_data"
    }
   ],
   "source": [
    "forward(10, 'DecisionTree')"
   ]
  },
  {
   "cell_type": "code",
   "execution_count": 40,
   "metadata": {},
   "outputs": [
    {
     "name": "stdout",
     "output_type": "stream",
     "text": [
      "[0.3705150976909414 0.0014657813369575168 0.0831225830263943\n",
      " 0.40770529823990187 0.4772043398372905 0.5037560839200295\n",
      " 0.5128332208624233 0.5183433486709881 0.5177741277725176\n",
      " 0.5177182980042243 0.5171569109269967 0.5164864571976779]\n"
     ]
    },
    {
     "data": {
      "image/png": "[encoded data removed]",
      "text/plain": [
       "<Figure size 1440x360 with 1 Axes>"
      ]
     },
     "metadata": {
      "needs_background": "light"
     },
     "output_type": "display_data"
    }
   ],
   "source": [
    "forward(10, 'RandomForest')"
   ]
  },
  {
   "cell_type": "markdown",
   "metadata": {},
   "source": [
    "Given these results, we will select a random forest model with 'PlateLocSide', 'PlateLocHeight', 'TaggedPitchType', and 'VertRelAngle' as features.\n",
    "\n",
    "Even though the decision tree model was slightly more accurate, the random forest model was chosen since you can use it to predict the probabilities of each outcome with it."
   ]
  },
  {
   "cell_type": "markdown",
   "metadata": {},
   "source": [
    "# Program for Coaches"
   ]
  },
  {
   "cell_type": "code",
   "execution_count": 41,
   "metadata": {
    "scrolled": true
   },
   "outputs": [
    {
     "name": "stdout",
     "output_type": "stream",
     "text": [
      "enter PlateLocHeight: 1\n",
      "enter PlateLocSide: -0.3\n",
      "enter VertRelAng: -3\n",
      "enter TaggedPitchType: 'Fastball'\n",
      "\n",
      "\n",
      "DeLoach, Zach : \n",
      " BallCalled:  0.656     StrikeCalled:  0.147     Inplay:  0.008     FoulBall:  0.088     HitbyPitch:  0.097     Undefined:  0.0     BallIntentional:  0.003 \n",
      "\n",
      "Helman, Michael : \n",
      " BallCalled:  0.704     StrikeCalled:  0.154     Inplay:  0.008     FoulBall:  0.055     HitbyPitch:  0.078     Undefined:  0.0     BallIntentional:  0.001 \n",
      "\n",
      "Shewmake, Braden : \n",
      " BallCalled:  0.711     StrikeCalled:  0.133     Inplay:  0.011     FoulBall:  0.064     HitbyPitch:  0.076     Undefined:  0.0     BallIntentional:  0.002 \n",
      "\n",
      "Andritsos, Chris : \n",
      " BallCalled:  0.617     StrikeCalled:  0.191     Inplay:  0.009     FoulBall:  0.06     HitbyPitch:  0.121     Undefined:  0.0     BallIntentional:  0.002 \n",
      "\n",
      "Bedford, Cole : \n",
      " BallCalled:  0.464     StrikeCalled:  0.217     Inplay:  0.005     FoulBall:  0.073     HitbyPitch:  0.226     Undefined:  0.0     BallIntentional:  0.015 \n",
      "\n",
      "Janca, George : \n",
      " BallCalled:  0.543     StrikeCalled:  0.184     Inplay:  0.002     FoulBall:  0.065     HitbyPitch:  0.202     Undefined:  0.0     BallIntentional:  0.004 \n",
      "\n",
      "Frizzell, Will : \n",
      " BallCalled:  0.667     StrikeCalled:  0.129     Inplay:  0.019     FoulBall:  0.113     HitbyPitch:  0.07     Undefined:  0.0     BallIntentional:  0.002 \n",
      "\n",
      "Foster, Logan : \n",
      " BallCalled:  0.699     StrikeCalled:  0.156     Inplay:  0.011     FoulBall:  0.069     HitbyPitch:  0.052     Undefined:  0.001     BallIntentional:  0.012 \n",
      "\n",
      "Schoenvogel, Baine : \n",
      " BallCalled:  0.689     StrikeCalled:  0.175     Inplay:  0.008     FoulBall:  0.053     HitbyPitch:  0.072     Undefined:  0.0     BallIntentional:  0.002 \n",
      "\n",
      "Walters, Aaron : \n",
      " BallCalled:  0.615     StrikeCalled:  0.153     Inplay:  0.01     FoulBall:  0.073     HitbyPitch:  0.147     Undefined:  0.0     BallIntentional:  0.002 \n",
      "\n",
      "Coleman, Hunter  : \n",
      " BallCalled:  0.653     StrikeCalled:  0.158     Inplay:  0.009     FoulBall:  0.071     HitbyPitch:  0.106     Undefined:  0.0     BallIntentional:  0.003 \n",
      "\n",
      "Wingate, Allonte : \n",
      " BallCalled:  0.51     StrikeCalled:  0.143     Inplay:  0.01     FoulBall:  0.228     HitbyPitch:  0.106     Undefined:  0.0     BallIntentional:  0.003 \n",
      "\n",
      "Coleman, Hunter : \n",
      " BallCalled:  0.655     StrikeCalled:  0.143     Inplay:  0.042     FoulBall:  0.063     HitbyPitch:  0.094     Undefined:  0.0     BallIntentional:  0.003 \n",
      "\n",
      "Taylor, Cole : \n",
      " BallCalled:  0.602     StrikeCalled:  0.14     Inplay:  0.027     FoulBall:  0.152     HitbyPitch:  0.077     Undefined:  0.0     BallIntentional:  0.002 \n",
      "\n",
      "Morris, Chandler : \n",
      " BallCalled:  0.528     StrikeCalled:  0.308     Inplay:  0.01     FoulBall:  0.057     HitbyPitch:  0.094     Undefined:  0.0     BallIntentional:  0.003 \n",
      "\n",
      "Blake, Cam : \n",
      " BallCalled:  0.622     StrikeCalled:  0.187     Inplay:  0.015     FoulBall:  0.094     HitbyPitch:  0.074     Undefined:  0.0     BallIntentional:  0.008 \n",
      "\n"
     ]
    }
   ],
   "source": [
    "#PlateHeight = 1.084302\n",
    "#PlateSide = -0.382324\n",
    "#RelAng = -3.393975\n",
    "#PitchType = 'Curveball'\n",
    "\n",
    "import pandas as pd\n",
    "from sklearn.ensemble import RandomForestClassifier\n",
    "\n",
    "Players = X1.Batter\n",
    "Tagged = X1.TaggedPitchType\n",
    "PlateLocH = X1.PlateLocHeight\n",
    "PlateLocS = X1.PlateLocSide\n",
    "RelVertAng = X1.VertRelAngle\n",
    "\n",
    "data = pd.concat([Tagged, PlateLocH, PlateLocS, RelVertAng, Players], axis =1)\n",
    "\n",
    "rf = RandomForestClassifier(n_estimators = 1000, random_state = 42)\n",
    "\n",
    "PlateHeight = float(input('enter PlateLocHeight: '))\n",
    "PlateSide = float(input('enter PlateLocSide: '))\n",
    "RelAng = float(input('enter VertRelAng: '))\n",
    "PitchType = input('enter TaggedPitchType: ')\n",
    "print('\\n')\n",
    "#data2 = pd.DataFrame([[PitchType, PlateHeight, PlateSide, RelAnd, dud]])\n",
    "\n",
    "for i in data.Batter.unique():\n",
    "    data = pd.concat([Tagged, PlateLocH, PlateLocS, RelVertAng, Players], axis =1)\n",
    "    data2 = pd.DataFrame([[PitchType, PlateHeight, PlateSide, RelAng, i]], columns = ['TaggedPitchType', 'PlateLocHeight', 'PlateLocSide','VertRelAngle','Batter'])\n",
    "    #print(i)\n",
    "    data = data.append(data2)\n",
    "    #print(data2)\n",
    "    dummies = pd.get_dummies(data)\n",
    "    x = dummies.iloc[-1,:]\n",
    "    dummies = dummies[:-1]\n",
    "    #print(x)\n",
    "    #print(dummies.shape)-3.0\n",
    "    rf.fit(dummies, y)\n",
    "    rfList = rf.predict_proba([x])\n",
    "    #print(i, rfList[0][1])\n",
    "    print(i,':','\\n','BallCalled: ', rfList[0][0],'   ','StrikeCalled: ', rfList[0][1],'   ','Inplay: ', rfList[0][2],'   ','FoulBall: ', rfList[0][3],'   ','HitbyPitch: ', rfList[0][4],'   ','Undefined: ', rfList[0][5],'   ','BallIntentional: ', rfList[0][6],'\\n')\n",
    "    \n",
    "#Ballcalled:0 StrikeSwinging': 1,'StrikeCalled': 2, 'InPlay' : 3, 'FoulBall' : 4, 'HitByPitch': 5, 'Undefined': 6, 'BallIntentional': 7 })\n"
   ]
  }
 ],
 "metadata": {
  "kernelspec": {
   "display_name": "Python 3",
   "language": "python",
   "name": "python3"
  },
  "language_info": {
   "codemirror_mode": {
    "name": "ipython",
    "version": 3
   },
   "file_extension": ".py",
   "mimetype": "text/x-python",
   "name": "python",
   "nbconvert_exporter": "python",
   "pygments_lexer": "ipython3",
   "version": "3.7.1"
  }
 },
 "nbformat": 4,
 "nbformat_minor": 2
}
